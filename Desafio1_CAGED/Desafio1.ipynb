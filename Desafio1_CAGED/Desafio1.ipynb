{
 "cells": [
  {
   "cell_type": "markdown",
   "metadata": {},
   "source": [
    "## Desafio_1\n",
    "\n",
    "Agora vamos praticas tudo o que aprendemos no módulo 1 utilizando dados reais do CAGED (Cadastro Geral de Empregados e Desempregados)\n",
    "\n",
    "<br>\n",
    "<img src=\"img/caged.png\" width='1200' >\n",
    "<br>\n",
    "\n",
    "O Cadastro Geral de Empregados e Desempregados (CAGED) foi criado como registro permanente de admissões e dispensa de empregados, sob o regime da Consolidação das Leis do Trabalho (CLT).\n",
    "\n",
    "É utilizado pelo Programa de Seguro-Desemprego, para conferir os dados referentes aos vínculos trabalhistas, além de outros programas sociais.\n",
    "\n",
    "Este Cadastro serve, ainda, como base para a elaboração de estudos, pesquisas, projetos e programas ligados ao mercado de trabalho, ao mesmo tempo em que subsidia a tomada de decisões para ações governamentais.\n",
    "\n",
    "Visite o sitee do CAGED através [deste link](http://trabalho.gov.br/trabalhador-caged/2015-09-10-17-46-22) e acesse os dados clicando inicialemente em **ESTATÍSTICA** e depois em **MICRODADOS**, então acesse a base de dados do CAGED e baixe o último arquivo do ano de 2018 **CAGEDEST_122018.7z**. Além disso, baize também o arquivo **CAGEDEST_layout_Atualizado.xls** para o dicionário de dados.\n",
    "\n",
    "Após isso, podemos começar as nossas análises:\n",
    "\n",
    "1. **Importar as bibliotecas** e ler os dados: Importe as bibliotecas necessárias e verifique a cara dos dados e suas informações básicas dos conteúdos das colunas.\n",
    "\n",
    "2. Limpeza e transformação da variável alvo **Salário Mensal**: verifique o tipo de dado da variával Salário Mensal, faça as devidas mudanças, plote a distribuição e dispersão dos dados e aplique a transformação matemática para a correção da assimetria.\n",
    "\n",
    "3. Verificação dos dados da variável **Idade**: verifique os dados da variável Idade, plote uma distribuição e uma dispersão, calcule a correlação com a variável salário mensal e interprete os resultados.\n",
    "\n",
    "4. Verificação dos dados da variável **Grau de Instrução**: verifique os dados da variável Grau de instrução, plote uma distribuição e uma dispersão, calcule a correlação com a variável salário mensal e interprete os resultados.\n",
    "\n",
    "5. Verificação dos dados da variável **Sexo**: verifique os dados da variável Sexo, plote uma distribuição e uma dispersão, calcule a correlação com a variável salário mensal e interprete os resultados. Depois disso, faça uma inferência estatística pra verificar se os homens ganham mais que as mulheres.\n",
    "\n",
    "6. Verificação dos dados da variável **Raça Cor**: verifique os dados da variável Raça Cor, plote uma distribuição e uma dispersão, calcule a correlação com a variável salário mensal e interprete os resultados. Depois disso, faça uma inferência estatística pra verificar se os brancos ganham mais que os outros grupos étnicos.\n",
    "\n",
    "7. Elaborar uma hipótese para ser rejeitada ou não-rejeitada por você de acordo com o resultado da sua análise, através da utilização dos dados do CAJED considerando as suas colunas.\n",
    "\n",
    "8. Avançado: plote um SEABORN heatmap com **todas as correlações das variávies numéricas entre si**. \n",
    "\n",
    "9. Avançado: Plote uma **regressão múltipla**.\n"
   ]
  },
  {
   "cell_type": "code",
   "execution_count": 1,
   "metadata": {
    "ExecuteTime": {
     "end_time": "2019-08-04T13:58:31.469379Z",
     "start_time": "2019-08-04T13:58:31.465389Z"
    }
   },
   "outputs": [],
   "source": [
    "import pandas as pd\n",
    "import warnings\n",
    "import numpy as np\n",
    "import matplotlib.pyplot as plt\n",
    "import scipy\n",
    "warnings.filterwarnings(\"ignore\")"
   ]
  },
  {
   "cell_type": "code",
   "execution_count": 2,
   "metadata": {
    "ExecuteTime": {
     "end_time": "2019-08-04T13:58:34.082387Z",
     "start_time": "2019-08-04T13:58:31.471374Z"
    }
   },
   "outputs": [],
   "source": [
    "data = pd.read_csv('C:/Users/Manfredi/Google Drive/Digital House/Aulas/08 Desafio 1-20190724/CAGEDEST_122018.txt'\n",
    "                   , delimiter=';'\n",
    "                   , usecols=[9, 12, 15, 16, 18], encoding='latin-1') "
   ]
  },
  {
   "cell_type": "code",
   "execution_count": 3,
   "metadata": {
    "ExecuteTime": {
     "end_time": "2019-08-04T13:58:34.089335Z",
     "start_time": "2019-08-04T13:58:34.083352Z"
    }
   },
   "outputs": [
    {
     "data": {
      "text/plain": [
       "Index(['Grau Instrução', 'Idade', 'Raça Cor', 'Salário Mensal', 'Sexo'], dtype='object')"
      ]
     },
     "execution_count": 3,
     "metadata": {},
     "output_type": "execute_result"
    }
   ],
   "source": [
    "data.columns # usecols=[9, 12, 15, 16, 18]"
   ]
  },
  {
   "cell_type": "code",
   "execution_count": 4,
   "metadata": {
    "ExecuteTime": {
     "end_time": "2019-08-04T13:58:34.100305Z",
     "start_time": "2019-08-04T13:58:34.090334Z"
    }
   },
   "outputs": [
    {
     "data": {
      "text/plain": [
       "(2256752, 5)"
      ]
     },
     "execution_count": 4,
     "metadata": {},
     "output_type": "execute_result"
    }
   ],
   "source": [
    "data.shape"
   ]
  },
  {
   "cell_type": "code",
   "execution_count": 5,
   "metadata": {
    "ExecuteTime": {
     "end_time": "2019-08-04T13:58:34.121249Z",
     "start_time": "2019-08-04T13:58:34.101302Z"
    }
   },
   "outputs": [
    {
     "data": {
      "text/html": [
       "<div>\n",
       "<style scoped>\n",
       "    .dataframe tbody tr th:only-of-type {\n",
       "        vertical-align: middle;\n",
       "    }\n",
       "\n",
       "    .dataframe tbody tr th {\n",
       "        vertical-align: top;\n",
       "    }\n",
       "\n",
       "    .dataframe thead th {\n",
       "        text-align: right;\n",
       "    }\n",
       "</style>\n",
       "<table border=\"1\" class=\"dataframe\">\n",
       "  <thead>\n",
       "    <tr style=\"text-align: right;\">\n",
       "      <th></th>\n",
       "      <th>Grau Instrução</th>\n",
       "      <th>Idade</th>\n",
       "      <th>Raça Cor</th>\n",
       "      <th>Salário Mensal</th>\n",
       "      <th>Sexo</th>\n",
       "    </tr>\n",
       "  </thead>\n",
       "  <tbody>\n",
       "    <tr>\n",
       "      <th>0</th>\n",
       "      <td>6</td>\n",
       "      <td>24</td>\n",
       "      <td>8</td>\n",
       "      <td>000954,00</td>\n",
       "      <td>1</td>\n",
       "    </tr>\n",
       "    <tr>\n",
       "      <th>1</th>\n",
       "      <td>8</td>\n",
       "      <td>25</td>\n",
       "      <td>2</td>\n",
       "      <td>002500,00</td>\n",
       "      <td>1</td>\n",
       "    </tr>\n",
       "    <tr>\n",
       "      <th>2</th>\n",
       "      <td>2</td>\n",
       "      <td>55</td>\n",
       "      <td>8</td>\n",
       "      <td>000000,00</td>\n",
       "      <td>1</td>\n",
       "    </tr>\n",
       "    <tr>\n",
       "      <th>3</th>\n",
       "      <td>2</td>\n",
       "      <td>52</td>\n",
       "      <td>8</td>\n",
       "      <td>000000,00</td>\n",
       "      <td>1</td>\n",
       "    </tr>\n",
       "    <tr>\n",
       "      <th>4</th>\n",
       "      <td>2</td>\n",
       "      <td>32</td>\n",
       "      <td>8</td>\n",
       "      <td>000000,00</td>\n",
       "      <td>1</td>\n",
       "    </tr>\n",
       "  </tbody>\n",
       "</table>\n",
       "</div>"
      ],
      "text/plain": [
       "   Grau Instrução  Idade  Raça Cor Salário Mensal  Sexo\n",
       "0               6     24         8      000954,00     1\n",
       "1               8     25         2      002500,00     1\n",
       "2               2     55         8      000000,00     1\n",
       "3               2     52         8      000000,00     1\n",
       "4               2     32         8      000000,00     1"
      ]
     },
     "execution_count": 5,
     "metadata": {},
     "output_type": "execute_result"
    }
   ],
   "source": [
    "data.head(5)"
   ]
  },
  {
   "cell_type": "code",
   "execution_count": 6,
   "metadata": {
    "ExecuteTime": {
     "end_time": "2019-08-04T13:58:34.146211Z",
     "start_time": "2019-08-04T13:58:34.122247Z"
    }
   },
   "outputs": [],
   "source": [
    "# RENOMEANDO A COLUNA Salário Mensal PARA Salario_Mensal\n",
    "data.rename(columns={\"Salário Mensal\": \"Salario_Mensal\"}, inplace=True)"
   ]
  },
  {
   "cell_type": "code",
   "execution_count": 7,
   "metadata": {
    "ExecuteTime": {
     "end_time": "2019-08-04T13:58:34.747693Z",
     "start_time": "2019-08-04T13:58:34.148177Z"
    }
   },
   "outputs": [],
   "source": [
    "# Substituindo a virgula pelo ponto na coluna Salario_Mensal\n",
    "data['Salario_Mensal'] = [x.replace(',', '.') for x in data['Salario_Mensal']]"
   ]
  },
  {
   "cell_type": "code",
   "execution_count": 8,
   "metadata": {
    "ExecuteTime": {
     "end_time": "2019-08-04T13:58:35.059858Z",
     "start_time": "2019-08-04T13:58:34.749689Z"
    }
   },
   "outputs": [
    {
     "data": {
      "text/plain": [
       "dtype('float64')"
      ]
     },
     "execution_count": 8,
     "metadata": {},
     "output_type": "execute_result"
    }
   ],
   "source": [
    "# Transformando o type de Salario_Mensal para float\n",
    "data['Salario_Mensal'] = data['Salario_Mensal'].astype(float)\n",
    "data['Salario_Mensal'].dtypes"
   ]
  },
  {
   "cell_type": "code",
   "execution_count": 9,
   "metadata": {
    "ExecuteTime": {
     "end_time": "2019-08-04T13:58:35.138688Z",
     "start_time": "2019-08-04T13:58:35.060854Z"
    }
   },
   "outputs": [
    {
     "data": {
      "text/plain": [
       "954.0      95704\n",
       "1500.0     24390\n",
       "1200.0     24382\n",
       "0.0        24245\n",
       "1050.0     18745\n",
       "1300.0     17894\n",
       "1110.0     17597\n",
       "1108.0     16460\n",
       "1000.0     15681\n",
       "477.0      15585\n",
       "1100.0     14865\n",
       "1185.0     12988\n",
       "2000.0     12105\n",
       "1405.0     10886\n",
       "1400.0     10795\n",
       "1800.0     10561\n",
       "1150.0     10471\n",
       "1752.0      8980\n",
       "1250.0      8815\n",
       "1600.0      8792\n",
       "1440.0      8300\n",
       "1107.0      8288\n",
       "1020.0      8135\n",
       "1030.0      7988\n",
       "997.0       7865\n",
       "1194.0      7822\n",
       "990.0       7606\n",
       "2500.0      7306\n",
       "977.0       6843\n",
       "1396.0      6826\n",
       "           ...  \n",
       "8978.0         1\n",
       "14832.0        1\n",
       "23811.0        1\n",
       "14830.0        1\n",
       "14829.0        1\n",
       "14827.0        1\n",
       "14818.0        1\n",
       "8979.0         1\n",
       "8970.0         1\n",
       "14862.0        1\n",
       "23827.0        1\n",
       "14864.0        1\n",
       "14917.0        1\n",
       "14914.0        1\n",
       "14904.0        1\n",
       "14903.0        1\n",
       "14902.0        1\n",
       "14901.0        1\n",
       "14895.0        1\n",
       "14894.0        1\n",
       "14888.0        1\n",
       "14883.0        1\n",
       "14877.0        1\n",
       "14876.0        1\n",
       "14874.0        1\n",
       "14873.0        1\n",
       "14872.0        1\n",
       "8965.0         1\n",
       "8967.0         1\n",
       "23584.0        1\n",
       "Name: Salario_Mensal, Length: 16987, dtype: int64"
      ]
     },
     "execution_count": 9,
     "metadata": {},
     "output_type": "execute_result"
    }
   ],
   "source": [
    "# CONTAGEM DE SALÁRIOS\n",
    "data.Salario_Mensal.value_counts(ascending=False)"
   ]
  },
  {
   "cell_type": "code",
   "execution_count": 10,
   "metadata": {
    "ExecuteTime": {
     "end_time": "2019-08-04T13:58:35.753339Z",
     "start_time": "2019-08-04T13:58:35.139669Z"
    }
   },
   "outputs": [
    {
     "data": {
      "text/plain": [
       "<matplotlib.axes._subplots.AxesSubplot at 0x2b5c622cdd8>"
      ]
     },
     "execution_count": 10,
     "metadata": {},
     "output_type": "execute_result"
    },
    {
     "data": {
      "image/png": "[encoded data removed]",
      "text/plain": [
       "<Figure size 432x288 with 1 Axes>"
      ]
     },
     "metadata": {
      "needs_background": "dark"
     },
     "output_type": "display_data"
    }
   ],
   "source": [
    "data.Salario_Mensal.plot.hist(bins=200, range=(-1, 5000))"
   ]
  },
  {
   "cell_type": "code",
   "execution_count": 11,
   "metadata": {
    "ExecuteTime": {
     "end_time": "2019-08-04T13:58:36.303339Z",
     "start_time": "2019-08-04T13:58:35.754291Z"
    }
   },
   "outputs": [
    {
     "data": {
      "image/png": "[encoded data removed]",
      "text/plain": [
       "<Figure size 432x288 with 1 Axes>"
      ]
     },
     "metadata": {
      "needs_background": "dark"
     },
     "output_type": "display_data"
    }
   ],
   "source": [
    "sample = data.sample(50000)\n",
    "plt.scatter(y=sample.Salario_Mensal, x=sample.Salario_Mensal.index, alpha=0.5)\n",
    "plt.title('ditribuição de salário')\n",
    "plt.xlabel('índice')\n",
    "plt.ylabel('salário')\n",
    "plt.show()"
   ]
  },
  {
   "cell_type": "code",
   "execution_count": 12,
   "metadata": {
    "ExecuteTime": {
     "end_time": "2019-08-04T13:58:36.308307Z",
     "start_time": "2019-08-04T13:58:36.304327Z"
    }
   },
   "outputs": [
    {
     "data": {
      "text/plain": [
       "(2256752, 5)"
      ]
     },
     "execution_count": 12,
     "metadata": {},
     "output_type": "execute_result"
    }
   ],
   "source": [
    "data.shape"
   ]
  },
  {
   "cell_type": "code",
   "execution_count": 13,
   "metadata": {
    "ExecuteTime": {
     "end_time": "2019-08-04T13:58:36.347916Z",
     "start_time": "2019-08-04T13:58:36.309303Z"
    }
   },
   "outputs": [
    {
     "name": "stdout",
     "output_type": "stream",
     "text": [
      "0.0    1.074332\n",
      "Name: Salario_Mensal, dtype: float64\n"
     ]
    }
   ],
   "source": [
    "# Foi observado nos gráficos acima que existe uma quantidade baixa de salários zerados\n",
    "# E em relação a base ela equivale a 1% dos registros totais apenas.\n",
    "salario_zerado = data['Salario_Mensal'] == 0\n",
    "dfsalario_zerado = data[salario_zerado]\n",
    "porcentagem_zerado = (dfsalario_zerado.Salario_Mensal.value_counts() / data.shape[0]) * 100\n",
    "print(porcentagem_zerado)"
   ]
  },
  {
   "cell_type": "code",
   "execution_count": 14,
   "metadata": {
    "ExecuteTime": {
     "end_time": "2019-08-04T13:58:36.356892Z",
     "start_time": "2019-08-04T13:58:36.348913Z"
    }
   },
   "outputs": [
    {
     "data": {
      "text/plain": [
       "(353, 5)"
      ]
     },
     "execution_count": 14,
     "metadata": {},
     "output_type": "execute_result"
    }
   ],
   "source": [
    "# ANÁLISE DOS SALÁRIOS MAIORES QUE 60K\n",
    "maiorque60k = (data['Salario_Mensal'] > 60000)\n",
    "dataframe60k = data[maiorque60k]\n",
    "dataframe60k.shape\n",
    "#dataframe60k.Salario_Mensal.value_counts().head(20)\n",
    "# Manti os salários acima de 60k pois em minha opnião estes valores são reais"
   ]
  },
  {
   "cell_type": "code",
   "execution_count": 15,
   "metadata": {
    "ExecuteTime": {
     "end_time": "2019-08-04T13:58:36.510525Z",
     "start_time": "2019-08-04T13:58:36.357889Z"
    }
   },
   "outputs": [
    {
     "data": {
      "text/plain": [
       "<matplotlib.axes._subplots.AxesSubplot at 0x2b5c4859da0>"
      ]
     },
     "execution_count": 15,
     "metadata": {},
     "output_type": "execute_result"
    },
    {
     "data": {
      "image/png": "[encoded data removed]",
      "text/plain": [
       "<Figure size 432x288 with 1 Axes>"
      ]
     },
     "metadata": {
      "needs_background": "dark"
     },
     "output_type": "display_data"
    }
   ],
   "source": [
    "# PLOTANDO O HISTOGRAMA DOS SALÁRIOS ACIMA DE 60K\n",
    "dataframe60k.Salario_Mensal.plot.hist(bins=50)"
   ]
  },
  {
   "cell_type": "code",
   "execution_count": 16,
   "metadata": {
    "ExecuteTime": {
     "end_time": "2019-08-04T13:58:36.619361Z",
     "start_time": "2019-08-04T13:58:36.511477Z"
    }
   },
   "outputs": [
    {
     "data": {
      "text/plain": [
       "Text(0, 0.5, 'Salários')"
      ]
     },
     "execution_count": 16,
     "metadata": {},
     "output_type": "execute_result"
    },
    {
     "data": {
      "image/png": "[encoded data removed]",
      "text/plain": [
       "<Figure size 432x288 with 1 Axes>"
      ]
     },
     "metadata": {
      "needs_background": "dark"
     },
     "output_type": "display_data"
    }
   ],
   "source": [
    "plt.scatter(y=dataframe60k.Salario_Mensal, x=dataframe60k.Salario_Mensal.index, alpha=0.5)\n",
    "plt.title('distribuição de salários acima de 60k')\n",
    "plt.xlabel('Índices')\n",
    "plt.ylabel('Salários')"
   ]
  },
  {
   "cell_type": "code",
   "execution_count": 17,
   "metadata": {
    "ExecuteTime": {
     "end_time": "2019-08-04T13:58:36.688197Z",
     "start_time": "2019-08-04T13:58:36.620317Z"
    }
   },
   "outputs": [
    {
     "data": {
      "text/plain": [
       "(2232507, 5)"
      ]
     },
     "execution_count": 17,
     "metadata": {},
     "output_type": "execute_result"
    }
   ],
   "source": [
    "# Removendo os valores zerados\n",
    "maiorque0 = data['Salario_Mensal'] > 0\n",
    "dataframe = data[maiorque0]\n",
    "dataframe.shape"
   ]
  },
  {
   "cell_type": "code",
   "execution_count": 18,
   "metadata": {
    "ExecuteTime": {
     "end_time": "2019-08-04T13:58:37.124010Z",
     "start_time": "2019-08-04T13:58:36.689133Z"
    }
   },
   "outputs": [
    {
     "data": {
      "text/plain": [
       "<matplotlib.axes._subplots.AxesSubplot at 0x2b5c62c8a90>"
      ]
     },
     "execution_count": 18,
     "metadata": {},
     "output_type": "execute_result"
    },
    {
     "data": {
      "image/png": "[encoded data removed]",
      "text/plain": [
       "<Figure size 432x288 with 1 Axes>"
      ]
     },
     "metadata": {
      "needs_background": "dark"
     },
     "output_type": "display_data"
    }
   ],
   "source": [
    "# PLOTANDO O HISTOGRAMA SEM OS OUTLIERS\n",
    "dataframe.Salario_Mensal.plot.hist(bins=100, range=(-1, 5000))"
   ]
  },
  {
   "cell_type": "code",
   "execution_count": 19,
   "metadata": {
    "ExecuteTime": {
     "end_time": "2019-08-04T13:58:37.749985Z",
     "start_time": "2019-08-04T13:58:37.124972Z"
    }
   },
   "outputs": [
    {
     "data": {
      "text/plain": [
       "<function matplotlib.pyplot.show(*args, **kw)>"
      ]
     },
     "execution_count": 19,
     "metadata": {},
     "output_type": "execute_result"
    },
    {
     "data": {
      "image/png": "[encoded data removed]",
      "text/plain": [
       "<Figure size 432x288 with 1 Axes>"
      ]
     },
     "metadata": {
      "needs_background": "dark"
     },
     "output_type": "display_data"
    }
   ],
   "source": [
    "# PLOTANDO A DISPERSÃO SEM OS OUTLIERS\n",
    "sample = dataframe.sample(50000)\n",
    "plt.scatter(y=sample.Salario_Mensal, x=sample.Salario_Mensal.index, alpha=0.5)\n",
    "plt.title('distribuição de salário')\n",
    "plt.xlabel('índice')\n",
    "plt.ylabel('salário')\n",
    "plt.show"
   ]
  },
  {
   "cell_type": "code",
   "execution_count": 20,
   "metadata": {
    "ExecuteTime": {
     "end_time": "2019-08-04T13:58:38.186780Z",
     "start_time": "2019-08-04T13:58:37.751958Z"
    }
   },
   "outputs": [
    {
     "data": {
      "text/plain": [
       "<matplotlib.axes._subplots.AxesSubplot at 0x2b5c656e828>"
      ]
     },
     "execution_count": 20,
     "metadata": {},
     "output_type": "execute_result"
    },
    {
     "data": {
      "image/png": "[encoded data removed]",
      "text/plain": [
       "<Figure size 432x288 with 1 Axes>"
      ]
     },
     "metadata": {
      "needs_background": "dark"
     },
     "output_type": "display_data"
    }
   ],
   "source": [
    "# APLICANDO O LOG PARA CORRIGIR A CURVA\n",
    "dataframe['log_salario'] = np.log1p(dataframe['Salario_Mensal'])\n",
    "dataframe['log_salario'].plot.hist(bins=50, xlim=(0, 20))\n",
    "\n",
    "# jogada do log é: torturar os dados e acaba tendo uma interpretação em percentual dos dados\n",
    "# e não mais em nível (valor absoluto / valor real)"
   ]
  },
  {
   "cell_type": "markdown",
   "metadata": {},
   "source": [
    "## Teste de normalidade Salario_Mensal"
   ]
  },
  {
   "cell_type": "code",
   "execution_count": 21,
   "metadata": {
    "ExecuteTime": {
     "end_time": "2019-08-04T13:58:42.703312Z",
     "start_time": "2019-08-04T13:58:38.187777Z"
    }
   },
   "outputs": [
    {
     "name": "stdout",
     "output_type": "stream",
     "text": [
      "media = 7.24 and desvio padrao = 0.47\n"
     ]
    },
    {
     "data": {
      "image/png": "[encoded data removed]",
      "text/plain": [
       "<Figure size 432x288 with 1 Axes>"
      ]
     },
     "metadata": {
      "needs_background": "dark"
     },
     "output_type": "display_data"
    },
    {
     "data": {
      "image/png": "[encoded data removed]",
      "text/plain": [
       "<Figure size 432x288 with 1 Axes>"
      ]
     },
     "metadata": {
      "needs_background": "dark"
     },
     "output_type": "display_data"
    }
   ],
   "source": [
    "import seaborn as sns\n",
    "from scipy import stats\n",
    "\n",
    "sns.distplot(dataframe['log_salario'], fit=stats.norm)\n",
    "\n",
    "(media, desviopadrao) = stats.norm.fit(dataframe['log_salario'])\n",
    "print(f'media = {media:.2f} and desvio padrao = {desviopadrao:.2f}')\n",
    "plt.legend(['Normal dist. ($\\mu=$ {:.2f} and $\\sigma=$ {:.2f} )'.format(media, desviopadrao)],\n",
    "            loc='best')\n",
    "plt.ylabel('Frequencia')\n",
    "plt.title('Distribuição de salário')\n",
    "\n",
    "fig = plt.figure()\n",
    "res = stats.probplot(dataframe['log_salario'], plot=plt)\n",
    "plt.show()"
   ]
  },
  {
   "cell_type": "markdown",
   "metadata": {},
   "source": [
    "### 3 - Verificação dos dados da variável Idade: verifique os dados da variável Idade, plote uma distribuição e uma dispersão, calcule a correlação com a variável salário mensal e interprete os resultados."
   ]
  },
  {
   "cell_type": "code",
   "execution_count": 22,
   "metadata": {
    "ExecuteTime": {
     "end_time": "2019-08-04T13:58:42.737222Z",
     "start_time": "2019-08-04T13:58:42.706305Z"
    }
   },
   "outputs": [
    {
     "data": {
      "text/plain": [
       "17    25047\n",
       "16    14511\n",
       "15     5075\n",
       "14      701\n",
       "10       15\n",
       "11        9\n",
       "12        7\n",
       "13        6\n",
       "Name: Idade, dtype: int64"
      ]
     },
     "execution_count": 22,
     "metadata": {},
     "output_type": "execute_result"
    }
   ],
   "source": [
    "# Analisando menores de idade\n",
    "menor18 = dataframe['Idade'] < 18\n",
    "dataframemenor18 = dataframe[menor18]\n",
    "dataframemenor18.Idade.value_counts()"
   ]
  },
  {
   "cell_type": "code",
   "execution_count": 23,
   "metadata": {
    "ExecuteTime": {
     "end_time": "2019-08-04T13:58:43.171070Z",
     "start_time": "2019-08-04T13:58:42.740216Z"
    }
   },
   "outputs": [
    {
     "data": {
      "text/plain": [
       "<matplotlib.axes._subplots.AxesSubplot at 0x2b5c4fd3518>"
      ]
     },
     "execution_count": 23,
     "metadata": {},
     "output_type": "execute_result"
    },
    {
     "data": {
      "image/png": "[encoded data removed]",
      "text/plain": [
       "<Figure size 432x288 with 1 Axes>"
      ]
     },
     "metadata": {
      "needs_background": "dark"
     },
     "output_type": "display_data"
    }
   ],
   "source": [
    "# PLOTANDO O HISTOGRAMA DE IDADES\n",
    "dataframe.Idade.plot.hist(bins=100, range=(10, 110))"
   ]
  },
  {
   "cell_type": "code",
   "execution_count": 24,
   "metadata": {
    "ExecuteTime": {
     "end_time": "2019-08-04T13:58:43.837315Z",
     "start_time": "2019-08-04T13:58:43.172066Z"
    }
   },
   "outputs": [
    {
     "data": {
      "text/plain": [
       "<function matplotlib.pyplot.show(*args, **kw)>"
      ]
     },
     "execution_count": 24,
     "metadata": {},
     "output_type": "execute_result"
    },
    {
     "data": {
      "image/png": "[encoded data removed]",
      "text/plain": [
       "<Figure size 432x288 with 1 Axes>"
      ]
     },
     "metadata": {
      "needs_background": "dark"
     },
     "output_type": "display_data"
    }
   ],
   "source": [
    "# Pegando uma amostra de 50k de idade e plotando o gráfico de dispersão\n",
    "sample = dataframe.sample(50000)\n",
    "plt.scatter(y=sample.Idade, x=sample.Idade.index, alpha=0.5)\n",
    "plt.title('distribuição de idade')\n",
    "plt.ylabel('Idade')\n",
    "plt.xlabel('Índice')\n",
    "plt.show"
   ]
  },
  {
   "cell_type": "markdown",
   "metadata": {},
   "source": [
    "## Cálculando a correlação de idade e salário"
   ]
  },
  {
   "cell_type": "code",
   "execution_count": 25,
   "metadata": {
    "ExecuteTime": {
     "end_time": "2019-08-04T13:58:43.905100Z",
     "start_time": "2019-08-04T13:58:43.839276Z"
    }
   },
   "outputs": [
    {
     "name": "stdout",
     "output_type": "stream",
     "text": [
      "                Idade  Salario_Mensal\n",
      "Idade            1.00            0.15\n",
      "Salario_Mensal   0.15            1.00\n",
      "\n",
      "Aqui quer dizer que a correlação entre idade e salario_mensal é bem fraca (0.00 a 0.19) ou seja\n",
      "se uma variável sobe ou desce, não quer dizer que a outra fará o mesmo\n"
     ]
    }
   ],
   "source": [
    "dfidadevssalario = dataframe[['Idade', 'Salario_Mensal']]\n",
    "print(dfidadevssalario.corr().round(2))\n",
    "print()\n",
    "print('Aqui quer dizer que a correlação entre idade e salario_mensal é bem fraca (0.00 a 0.19) ou seja')\n",
    "print('se uma variável sobe ou desce, não quer dizer que a outra fará o mesmo')"
   ]
  },
  {
   "cell_type": "markdown",
   "metadata": {},
   "source": [
    "### 4 Verificação dos dados da variável Grau de Instrução: verifique os dados da variável Grau de instrução, plote uma distribuição e uma dispersão, calcule a correlação com a variável salário mensal e interprete os resultados."
   ]
  },
  {
   "cell_type": "markdown",
   "metadata": {
    "ExecuteTime": {
     "end_time": "2019-07-26T17:41:49.095103Z",
     "start_time": "2019-07-26T17:41:49.089109Z"
    }
   },
   "source": [
    "### Tabela grau de instrução\n",
    "\n",
    "* Analfabeto_______________1\n",
    "* Até 5ª Incompleto\t_______2\n",
    "* 5ª Completo Fundamental__3\n",
    "* 6ª a 9ª Fundamental______4\n",
    "* Fundamental Completo_____5\n",
    "* Médio Incompleto_________6\n",
    "* Médio Completo___________7\n",
    "* Superior Incompleto______8\n",
    "* Superior Completo________9\n",
    "* MESTRADO________________10\n",
    "* DOUTORADO_______________11\n",
    "* IGNORADO________________-1"
   ]
  },
  {
   "cell_type": "code",
   "execution_count": 26,
   "metadata": {
    "ExecuteTime": {
     "end_time": "2019-08-04T13:58:43.977940Z",
     "start_time": "2019-08-04T13:58:43.906098Z"
    }
   },
   "outputs": [],
   "source": [
    "# RENOMEANDO A COLUNA GRAU INSTRUÇÃO PARA Grau_Instrucao\n",
    "dataframe.rename(columns={'Grau Instrução': 'Grau_Instrucao'}, inplace=True)"
   ]
  },
  {
   "cell_type": "code",
   "execution_count": 27,
   "metadata": {
    "ExecuteTime": {
     "end_time": "2019-08-04T13:58:44.806282Z",
     "start_time": "2019-08-04T13:58:43.978903Z"
    }
   },
   "outputs": [],
   "source": [
    "# TROCANDO O TIPO PRIMITIVO DE GRAU_INSTRUCAO PARA STRING\n",
    "dataframe['Grau_Instrucao_STR'] = dataframe.Grau_Instrucao.astype(str, inplace=True)"
   ]
  },
  {
   "cell_type": "code",
   "execution_count": 28,
   "metadata": {
    "ExecuteTime": {
     "end_time": "2019-08-04T13:58:44.811268Z",
     "start_time": "2019-08-04T13:58:44.807247Z"
    }
   },
   "outputs": [
    {
     "data": {
      "text/plain": [
       "dtype('O')"
      ]
     },
     "execution_count": 28,
     "metadata": {},
     "output_type": "execute_result"
    }
   ],
   "source": [
    "# VERIFICANDO SE O TIPO PRIMITIVO FOI TROCADO\n",
    "dataframe['Grau_Instrucao_STR'].dtype"
   ]
  },
  {
   "cell_type": "code",
   "execution_count": 29,
   "metadata": {
    "ExecuteTime": {
     "end_time": "2019-08-04T13:58:45.316219Z",
     "start_time": "2019-08-04T13:58:44.812233Z"
    }
   },
   "outputs": [],
   "source": [
    "# https://pandas.pydata.org/pandas-docs/stable/reference/api/pandas.DataFrame.replace.html\n",
    "dataframe.Grau_Instrucao_STR.replace({'1': 'Analfabeto',\n",
    "                              '2': 'Até 5ª Incompleto',\n",
    "                              '3': '5ª Completo Fundamental',\n",
    "                              '4': '6ª a 9ª Fundamental',\n",
    "                              '5': 'Fundamental Completo',\n",
    "                              '6': 'Médio Incompleto',\n",
    "                              '7': 'Médio Completo',\n",
    "                              '8': 'Superior Incompleto',\n",
    "                              '9': 'Superior Completo',\n",
    "                              '10': 'Mestrado',\n",
    "                              '11': 'Doutorado',\n",
    "                              '-1': 'IGNORADO'}, inplace=True)"
   ]
  },
  {
   "cell_type": "code",
   "execution_count": 30,
   "metadata": {
    "ExecuteTime": {
     "end_time": "2019-08-04T13:58:45.326195Z",
     "start_time": "2019-08-04T13:58:45.317254Z"
    }
   },
   "outputs": [
    {
     "data": {
      "text/html": [
       "<div>\n",
       "<style scoped>\n",
       "    .dataframe tbody tr th:only-of-type {\n",
       "        vertical-align: middle;\n",
       "    }\n",
       "\n",
       "    .dataframe tbody tr th {\n",
       "        vertical-align: top;\n",
       "    }\n",
       "\n",
       "    .dataframe thead th {\n",
       "        text-align: right;\n",
       "    }\n",
       "</style>\n",
       "<table border=\"1\" class=\"dataframe\">\n",
       "  <thead>\n",
       "    <tr style=\"text-align: right;\">\n",
       "      <th></th>\n",
       "      <th>Grau_Instrucao</th>\n",
       "      <th>Idade</th>\n",
       "      <th>Raça Cor</th>\n",
       "      <th>Salario_Mensal</th>\n",
       "      <th>Sexo</th>\n",
       "      <th>log_salario</th>\n",
       "      <th>Grau_Instrucao_STR</th>\n",
       "    </tr>\n",
       "  </thead>\n",
       "  <tbody>\n",
       "    <tr>\n",
       "      <th>0</th>\n",
       "      <td>6</td>\n",
       "      <td>24</td>\n",
       "      <td>8</td>\n",
       "      <td>954.0</td>\n",
       "      <td>1</td>\n",
       "      <td>6.861711</td>\n",
       "      <td>Médio Incompleto</td>\n",
       "    </tr>\n",
       "    <tr>\n",
       "      <th>1</th>\n",
       "      <td>8</td>\n",
       "      <td>25</td>\n",
       "      <td>2</td>\n",
       "      <td>2500.0</td>\n",
       "      <td>1</td>\n",
       "      <td>7.824446</td>\n",
       "      <td>Superior Incompleto</td>\n",
       "    </tr>\n",
       "    <tr>\n",
       "      <th>7</th>\n",
       "      <td>4</td>\n",
       "      <td>50</td>\n",
       "      <td>2</td>\n",
       "      <td>1061.0</td>\n",
       "      <td>2</td>\n",
       "      <td>6.967909</td>\n",
       "      <td>6ª a 9ª Fundamental</td>\n",
       "    </tr>\n",
       "    <tr>\n",
       "      <th>11</th>\n",
       "      <td>7</td>\n",
       "      <td>22</td>\n",
       "      <td>8</td>\n",
       "      <td>1061.0</td>\n",
       "      <td>1</td>\n",
       "      <td>6.967909</td>\n",
       "      <td>Médio Completo</td>\n",
       "    </tr>\n",
       "    <tr>\n",
       "      <th>12</th>\n",
       "      <td>7</td>\n",
       "      <td>37</td>\n",
       "      <td>2</td>\n",
       "      <td>1061.0</td>\n",
       "      <td>1</td>\n",
       "      <td>6.967909</td>\n",
       "      <td>Médio Completo</td>\n",
       "    </tr>\n",
       "  </tbody>\n",
       "</table>\n",
       "</div>"
      ],
      "text/plain": [
       "    Grau_Instrucao  Idade  Raça Cor  Salario_Mensal  Sexo  log_salario  \\\n",
       "0                6     24         8           954.0     1     6.861711   \n",
       "1                8     25         2          2500.0     1     7.824446   \n",
       "7                4     50         2          1061.0     2     6.967909   \n",
       "11               7     22         8          1061.0     1     6.967909   \n",
       "12               7     37         2          1061.0     1     6.967909   \n",
       "\n",
       "     Grau_Instrucao_STR  \n",
       "0      Médio Incompleto  \n",
       "1   Superior Incompleto  \n",
       "7   6ª a 9ª Fundamental  \n",
       "11       Médio Completo  \n",
       "12       Médio Completo  "
      ]
     },
     "execution_count": 30,
     "metadata": {},
     "output_type": "execute_result"
    }
   ],
   "source": [
    "dataframe.head()"
   ]
  },
  {
   "cell_type": "code",
   "execution_count": 31,
   "metadata": {
    "ExecuteTime": {
     "end_time": "2019-08-04T13:58:45.502739Z",
     "start_time": "2019-08-04T13:58:45.327246Z"
    }
   },
   "outputs": [
    {
     "data": {
      "text/plain": [
       "<matplotlib.collections.PathCollection at 0x2b5f1d03d68>"
      ]
     },
     "execution_count": 31,
     "metadata": {},
     "output_type": "execute_result"
    },
    {
     "data": {
      "image/png": "[encoded data removed]",
      "text/plain": [
       "<Figure size 432x288 with 1 Axes>"
      ]
     },
     "metadata": {
      "needs_background": "dark"
     },
     "output_type": "display_data"
    }
   ],
   "source": [
    "# VERIFICANDO A DISPERSÃO DE IDADE\n",
    "sample = dataframe.sample(2000)\n",
    "plt.scatter(y=sample.Grau_Instrucao, x=sample.Grau_Instrucao.index, alpha=0.4)"
   ]
  },
  {
   "cell_type": "code",
   "execution_count": 32,
   "metadata": {
    "ExecuteTime": {
     "end_time": "2019-08-04T13:58:45.801924Z",
     "start_time": "2019-08-04T13:58:45.503746Z"
    }
   },
   "outputs": [
    {
     "data": {
      "text/plain": [
       "<matplotlib.axes._subplots.AxesSubplot at 0x2b5c5119240>"
      ]
     },
     "execution_count": 32,
     "metadata": {},
     "output_type": "execute_result"
    },
    {
     "data": {
      "image/png": "[encoded data removed]",
      "text/plain": [
       "<Figure size 432x288 with 1 Axes>"
      ]
     },
     "metadata": {
      "needs_background": "dark"
     },
     "output_type": "display_data"
    }
   ],
   "source": [
    "# CRIANDO UM HISTOGRAMA\n",
    "dataframe.Grau_Instrucao.plot.hist(bins=20, range=(0, 10))"
   ]
  },
  {
   "cell_type": "code",
   "execution_count": 33,
   "metadata": {
    "ExecuteTime": {
     "end_time": "2019-08-04T13:58:46.042280Z",
     "start_time": "2019-08-04T13:58:45.802921Z"
    }
   },
   "outputs": [
    {
     "data": {
      "text/plain": [
       "<matplotlib.axes._subplots.AxesSubplot at 0x2b5c50bd3c8>"
      ]
     },
     "execution_count": 33,
     "metadata": {},
     "output_type": "execute_result"
    },
    {
     "data": {
      "image/png": "[encoded data removed]",
      "text/plain": [
       "<Figure size 432x288 with 1 Axes>"
      ]
     },
     "metadata": {
      "needs_background": "dark"
     },
     "output_type": "display_data"
    }
   ],
   "source": [
    "dataframe.Grau_Instrucao_STR.value_counts().plot(kind='bar')"
   ]
  },
  {
   "cell_type": "code",
   "execution_count": 34,
   "metadata": {
    "ExecuteTime": {
     "end_time": "2019-08-04T13:58:46.100125Z",
     "start_time": "2019-08-04T13:58:46.043277Z"
    }
   },
   "outputs": [
    {
     "name": "stdout",
     "output_type": "stream",
     "text": [
      "                Grau_Instrucao  Salario_Mensal\n",
      "Grau_Instrucao            1.00            0.19\n",
      "Salario_Mensal            0.19            1.00\n",
      "\n",
      "Aqui quer dizer que a correlação entre Grau_Instrucao e Salario_Mensal é bem fraca (0.00 a 0.19) ou seja\n",
      "se uma variável sobe ou desce, não quer dizer que a outra fará o mesmo\n"
     ]
    }
   ],
   "source": [
    "# FAZENDO A CORRELAÇÃO ENTRE A VARIÁVEL GRAU INSTRUÇÃO E SALÁRIO\n",
    "dfgrauinstrucaovssalario = dataframe[['Grau_Instrucao', 'Salario_Mensal']]\n",
    "print(dfgrauinstrucaovssalario.corr().round(2))\n",
    "print()\n",
    "print('Aqui quer dizer que a correlação entre Grau_Instrucao e Salario_Mensal é bem fraca (0.00 a 0.19) ou seja')\n",
    "print('se uma variável sobe ou desce, não quer dizer que a outra fará o mesmo')"
   ]
  },
  {
   "cell_type": "markdown",
   "metadata": {},
   "source": [
    "### 5 Verificação dos dados da variável Sexo: verifique os dados da variável Sexo, plote uma distribuição e uma dispersão, calcule a correlação com a variável salário mensal e interprete os resultados. Depois disso, faça uma inferência estatística pra verificar se os homens ganham mais que as mulheres."
   ]
  },
  {
   "cell_type": "code",
   "execution_count": 35,
   "metadata": {
    "ExecuteTime": {
     "end_time": "2019-08-04T13:58:46.129048Z",
     "start_time": "2019-08-04T13:58:46.101123Z"
    }
   },
   "outputs": [
    {
     "data": {
      "text/plain": [
       "1    1310312\n",
       "2     922195\n",
       "Name: Sexo, dtype: int64"
      ]
     },
     "execution_count": 35,
     "metadata": {},
     "output_type": "execute_result"
    }
   ],
   "source": [
    "# No dataset existem mais homens do que mulheres\n",
    "dataframe.Sexo.value_counts()"
   ]
  },
  {
   "cell_type": "markdown",
   "metadata": {},
   "source": [
    "### DICIONÁRIO DADOS SEXO\n",
    "* 1 = MASCULINO\n",
    "* 2 = FEMININO"
   ]
  },
  {
   "cell_type": "code",
   "execution_count": 36,
   "metadata": {
    "ExecuteTime": {
     "end_time": "2019-08-04T13:58:47.002754Z",
     "start_time": "2019-08-04T13:58:46.131045Z"
    }
   },
   "outputs": [],
   "source": [
    "# Criando uma nova coluna e transformando os dados para string\n",
    "dataframe['Sexo_STR'] = dataframe.Sexo.astype(str)"
   ]
  },
  {
   "cell_type": "code",
   "execution_count": 37,
   "metadata": {
    "ExecuteTime": {
     "end_time": "2019-08-04T13:58:47.156303Z",
     "start_time": "2019-08-04T13:58:47.003743Z"
    }
   },
   "outputs": [],
   "source": [
    "# Alterando os valores 1 para Masculino e 2 para Feminino\n",
    "dataframe.Sexo_STR.replace({'1': 'Masculino',\n",
    "                            '2': 'Feminino'}, inplace=True)"
   ]
  },
  {
   "cell_type": "code",
   "execution_count": 38,
   "metadata": {
    "ExecuteTime": {
     "end_time": "2019-08-04T13:58:47.166756Z",
     "start_time": "2019-08-04T13:58:47.156780Z"
    }
   },
   "outputs": [
    {
     "data": {
      "text/html": [
       "<div>\n",
       "<style scoped>\n",
       "    .dataframe tbody tr th:only-of-type {\n",
       "        vertical-align: middle;\n",
       "    }\n",
       "\n",
       "    .dataframe tbody tr th {\n",
       "        vertical-align: top;\n",
       "    }\n",
       "\n",
       "    .dataframe thead th {\n",
       "        text-align: right;\n",
       "    }\n",
       "</style>\n",
       "<table border=\"1\" class=\"dataframe\">\n",
       "  <thead>\n",
       "    <tr style=\"text-align: right;\">\n",
       "      <th></th>\n",
       "      <th>Grau_Instrucao</th>\n",
       "      <th>Idade</th>\n",
       "      <th>Raça Cor</th>\n",
       "      <th>Salario_Mensal</th>\n",
       "      <th>Sexo</th>\n",
       "      <th>log_salario</th>\n",
       "      <th>Grau_Instrucao_STR</th>\n",
       "      <th>Sexo_STR</th>\n",
       "    </tr>\n",
       "  </thead>\n",
       "  <tbody>\n",
       "    <tr>\n",
       "      <th>0</th>\n",
       "      <td>6</td>\n",
       "      <td>24</td>\n",
       "      <td>8</td>\n",
       "      <td>954.0</td>\n",
       "      <td>1</td>\n",
       "      <td>6.861711</td>\n",
       "      <td>Médio Incompleto</td>\n",
       "      <td>Masculino</td>\n",
       "    </tr>\n",
       "    <tr>\n",
       "      <th>1</th>\n",
       "      <td>8</td>\n",
       "      <td>25</td>\n",
       "      <td>2</td>\n",
       "      <td>2500.0</td>\n",
       "      <td>1</td>\n",
       "      <td>7.824446</td>\n",
       "      <td>Superior Incompleto</td>\n",
       "      <td>Masculino</td>\n",
       "    </tr>\n",
       "    <tr>\n",
       "      <th>7</th>\n",
       "      <td>4</td>\n",
       "      <td>50</td>\n",
       "      <td>2</td>\n",
       "      <td>1061.0</td>\n",
       "      <td>2</td>\n",
       "      <td>6.967909</td>\n",
       "      <td>6ª a 9ª Fundamental</td>\n",
       "      <td>Feminino</td>\n",
       "    </tr>\n",
       "    <tr>\n",
       "      <th>11</th>\n",
       "      <td>7</td>\n",
       "      <td>22</td>\n",
       "      <td>8</td>\n",
       "      <td>1061.0</td>\n",
       "      <td>1</td>\n",
       "      <td>6.967909</td>\n",
       "      <td>Médio Completo</td>\n",
       "      <td>Masculino</td>\n",
       "    </tr>\n",
       "    <tr>\n",
       "      <th>12</th>\n",
       "      <td>7</td>\n",
       "      <td>37</td>\n",
       "      <td>2</td>\n",
       "      <td>1061.0</td>\n",
       "      <td>1</td>\n",
       "      <td>6.967909</td>\n",
       "      <td>Médio Completo</td>\n",
       "      <td>Masculino</td>\n",
       "    </tr>\n",
       "  </tbody>\n",
       "</table>\n",
       "</div>"
      ],
      "text/plain": [
       "    Grau_Instrucao  Idade  Raça Cor  Salario_Mensal  Sexo  log_salario  \\\n",
       "0                6     24         8           954.0     1     6.861711   \n",
       "1                8     25         2          2500.0     1     7.824446   \n",
       "7                4     50         2          1061.0     2     6.967909   \n",
       "11               7     22         8          1061.0     1     6.967909   \n",
       "12               7     37         2          1061.0     1     6.967909   \n",
       "\n",
       "     Grau_Instrucao_STR   Sexo_STR  \n",
       "0      Médio Incompleto  Masculino  \n",
       "1   Superior Incompleto  Masculino  \n",
       "7   6ª a 9ª Fundamental   Feminino  \n",
       "11       Médio Completo  Masculino  \n",
       "12       Médio Completo  Masculino  "
      ]
     },
     "execution_count": 38,
     "metadata": {},
     "output_type": "execute_result"
    }
   ],
   "source": [
    "dataframe.head()"
   ]
  },
  {
   "cell_type": "code",
   "execution_count": 39,
   "metadata": {
    "ExecuteTime": {
     "end_time": "2019-08-04T13:58:47.436036Z",
     "start_time": "2019-08-04T13:58:47.167753Z"
    }
   },
   "outputs": [
    {
     "data": {
      "text/plain": [
       "<matplotlib.axes._subplots.AxesSubplot at 0x2b5c6e2c7f0>"
      ]
     },
     "execution_count": 39,
     "metadata": {},
     "output_type": "execute_result"
    },
    {
     "data": {
      "image/png": "[encoded data removed]",
      "text/plain": [
       "<Figure size 432x288 with 1 Axes>"
      ]
     },
     "metadata": {
      "needs_background": "dark"
     },
     "output_type": "display_data"
    }
   ],
   "source": [
    "# Plotando o gráfico de distribuição\n",
    "dataframe.Sexo.plot.hist(bins=5, range=(1, 2))"
   ]
  },
  {
   "cell_type": "code",
   "execution_count": 40,
   "metadata": {
    "ExecuteTime": {
     "end_time": "2019-08-04T13:58:47.641487Z",
     "start_time": "2019-08-04T13:58:47.437033Z"
    }
   },
   "outputs": [
    {
     "data": {
      "text/plain": [
       "<matplotlib.collections.PathCollection at 0x2b58112f780>"
      ]
     },
     "execution_count": 40,
     "metadata": {},
     "output_type": "execute_result"
    },
    {
     "data": {
      "image/png": "[encoded data removed]",
      "text/plain": [
       "<Figure size 432x288 with 1 Axes>"
      ]
     },
     "metadata": {
      "needs_background": "dark"
     },
     "output_type": "display_data"
    }
   ],
   "source": [
    "# Plotando o gráfico de dispersão\n",
    "sample = dataframe.sample(500)\n",
    "plt.scatter(y=sample.Sexo, x=sample.Sexo.index, alpha=0.3)"
   ]
  },
  {
   "cell_type": "code",
   "execution_count": 41,
   "metadata": {
    "ExecuteTime": {
     "end_time": "2019-08-04T13:58:47.700368Z",
     "start_time": "2019-08-04T13:58:47.642492Z"
    }
   },
   "outputs": [
    {
     "name": "stdout",
     "output_type": "stream",
     "text": [
      "                Sexo  Salario_Mensal\n",
      "Sexo            1.00           -0.04\n",
      "Salario_Mensal -0.04            1.00\n",
      "\n",
      "A correlação entre as variáveis Sexo e Salário Mensal são bem fracas\n"
     ]
    }
   ],
   "source": [
    "# Calculando a correlação de salario_mensal com sexo\n",
    "dfsexovssalariomensal = dataframe[['Sexo', 'Salario_Mensal']]\n",
    "print(dfsexovssalariomensal.corr().round(2))\n",
    "print()\n",
    "print('A correlação entre as variáveis Sexo e Salário Mensal são bem fracas')"
   ]
  },
  {
   "cell_type": "code",
   "execution_count": 42,
   "metadata": {
    "ExecuteTime": {
     "end_time": "2019-08-04T13:58:47.755217Z",
     "start_time": "2019-08-04T13:58:47.701361Z"
    }
   },
   "outputs": [
    {
     "data": {
      "text/html": [
       "<div>\n",
       "<style scoped>\n",
       "    .dataframe tbody tr th:only-of-type {\n",
       "        vertical-align: middle;\n",
       "    }\n",
       "\n",
       "    .dataframe tbody tr th {\n",
       "        vertical-align: top;\n",
       "    }\n",
       "\n",
       "    .dataframe thead th {\n",
       "        text-align: right;\n",
       "    }\n",
       "</style>\n",
       "<table border=\"1\" class=\"dataframe\">\n",
       "  <thead>\n",
       "    <tr style=\"text-align: right;\">\n",
       "      <th></th>\n",
       "      <th>Salario_Mensal</th>\n",
       "    </tr>\n",
       "    <tr>\n",
       "      <th>Sexo</th>\n",
       "      <th></th>\n",
       "    </tr>\n",
       "  </thead>\n",
       "  <tbody>\n",
       "    <tr>\n",
       "      <th>1</th>\n",
       "      <td>1718.585699</td>\n",
       "    </tr>\n",
       "    <tr>\n",
       "      <th>2</th>\n",
       "      <td>1540.241696</td>\n",
       "    </tr>\n",
       "  </tbody>\n",
       "</table>\n",
       "</div>"
      ],
      "text/plain": [
       "      Salario_Mensal\n",
       "Sexo                \n",
       "1        1718.585699\n",
       "2        1540.241696"
      ]
     },
     "execution_count": 42,
     "metadata": {},
     "output_type": "execute_result"
    }
   ],
   "source": [
    "dfsexovssalariomensal.groupby('Sexo').mean()"
   ]
  },
  {
   "cell_type": "code",
   "execution_count": 43,
   "metadata": {
    "ExecuteTime": {
     "end_time": "2019-08-04T13:58:47.768148Z",
     "start_time": "2019-08-04T13:58:47.756181Z"
    }
   },
   "outputs": [
    {
     "data": {
      "text/html": [
       "<div>\n",
       "<style scoped>\n",
       "    .dataframe tbody tr th:only-of-type {\n",
       "        vertical-align: middle;\n",
       "    }\n",
       "\n",
       "    .dataframe tbody tr th {\n",
       "        vertical-align: top;\n",
       "    }\n",
       "\n",
       "    .dataframe thead th {\n",
       "        text-align: right;\n",
       "    }\n",
       "</style>\n",
       "<table border=\"1\" class=\"dataframe\">\n",
       "  <thead>\n",
       "    <tr style=\"text-align: right;\">\n",
       "      <th></th>\n",
       "      <th>Grau_Instrucao</th>\n",
       "      <th>Idade</th>\n",
       "      <th>Raça Cor</th>\n",
       "      <th>Salario_Mensal</th>\n",
       "      <th>Sexo</th>\n",
       "      <th>log_salario</th>\n",
       "      <th>Grau_Instrucao_STR</th>\n",
       "      <th>Sexo_STR</th>\n",
       "    </tr>\n",
       "  </thead>\n",
       "  <tbody>\n",
       "    <tr>\n",
       "      <th>0</th>\n",
       "      <td>6</td>\n",
       "      <td>24</td>\n",
       "      <td>8</td>\n",
       "      <td>954.0</td>\n",
       "      <td>1</td>\n",
       "      <td>6.861711</td>\n",
       "      <td>Médio Incompleto</td>\n",
       "      <td>Masculino</td>\n",
       "    </tr>\n",
       "    <tr>\n",
       "      <th>1</th>\n",
       "      <td>8</td>\n",
       "      <td>25</td>\n",
       "      <td>2</td>\n",
       "      <td>2500.0</td>\n",
       "      <td>1</td>\n",
       "      <td>7.824446</td>\n",
       "      <td>Superior Incompleto</td>\n",
       "      <td>Masculino</td>\n",
       "    </tr>\n",
       "    <tr>\n",
       "      <th>7</th>\n",
       "      <td>4</td>\n",
       "      <td>50</td>\n",
       "      <td>2</td>\n",
       "      <td>1061.0</td>\n",
       "      <td>2</td>\n",
       "      <td>6.967909</td>\n",
       "      <td>6ª a 9ª Fundamental</td>\n",
       "      <td>Feminino</td>\n",
       "    </tr>\n",
       "    <tr>\n",
       "      <th>11</th>\n",
       "      <td>7</td>\n",
       "      <td>22</td>\n",
       "      <td>8</td>\n",
       "      <td>1061.0</td>\n",
       "      <td>1</td>\n",
       "      <td>6.967909</td>\n",
       "      <td>Médio Completo</td>\n",
       "      <td>Masculino</td>\n",
       "    </tr>\n",
       "    <tr>\n",
       "      <th>12</th>\n",
       "      <td>7</td>\n",
       "      <td>37</td>\n",
       "      <td>2</td>\n",
       "      <td>1061.0</td>\n",
       "      <td>1</td>\n",
       "      <td>6.967909</td>\n",
       "      <td>Médio Completo</td>\n",
       "      <td>Masculino</td>\n",
       "    </tr>\n",
       "  </tbody>\n",
       "</table>\n",
       "</div>"
      ],
      "text/plain": [
       "    Grau_Instrucao  Idade  Raça Cor  Salario_Mensal  Sexo  log_salario  \\\n",
       "0                6     24         8           954.0     1     6.861711   \n",
       "1                8     25         2          2500.0     1     7.824446   \n",
       "7                4     50         2          1061.0     2     6.967909   \n",
       "11               7     22         8          1061.0     1     6.967909   \n",
       "12               7     37         2          1061.0     1     6.967909   \n",
       "\n",
       "     Grau_Instrucao_STR   Sexo_STR  \n",
       "0      Médio Incompleto  Masculino  \n",
       "1   Superior Incompleto  Masculino  \n",
       "7   6ª a 9ª Fundamental   Feminino  \n",
       "11       Médio Completo  Masculino  \n",
       "12       Médio Completo  Masculino  "
      ]
     },
     "execution_count": 43,
     "metadata": {},
     "output_type": "execute_result"
    }
   ],
   "source": [
    "dataframe.head()"
   ]
  },
  {
   "cell_type": "code",
   "execution_count": 44,
   "metadata": {
    "ExecuteTime": {
     "end_time": "2019-08-04T13:58:47.843947Z",
     "start_time": "2019-08-04T13:58:47.769146Z"
    }
   },
   "outputs": [],
   "source": [
    "# Criando uma coluna do log padronizado (distribuição padronizada) ou seja, transformando os valores do log\n",
    "# em score-z\n",
    "dataframe['log_padronizado_scorez'] = ( dataframe['log_salario'] - dataframe['log_salario'].mean() ) / dataframe['log_salario'].std() "
   ]
  },
  {
   "cell_type": "code",
   "execution_count": 45,
   "metadata": {
    "ExecuteTime": {
     "end_time": "2019-08-04T13:58:47.932708Z",
     "start_time": "2019-08-04T13:58:47.844943Z"
    }
   },
   "outputs": [],
   "source": [
    "# Criando um dataframe só de homens\n",
    "homens = dataframe['Sexo'] == 1\n",
    "dataframehomens = dataframe[homens]"
   ]
  },
  {
   "cell_type": "code",
   "execution_count": 46,
   "metadata": {
    "ExecuteTime": {
     "end_time": "2019-08-04T13:58:47.983572Z",
     "start_time": "2019-08-04T13:58:47.933706Z"
    }
   },
   "outputs": [],
   "source": [
    "# Criando um dataframe só de mulheres\n",
    "mulheres = dataframe['Sexo'] == 2\n",
    "dataframemulheres = dataframe[mulheres]"
   ]
  },
  {
   "cell_type": "code",
   "execution_count": 47,
   "metadata": {
    "ExecuteTime": {
     "end_time": "2019-08-04T13:58:48.032475Z",
     "start_time": "2019-08-04T13:58:47.984569Z"
    }
   },
   "outputs": [],
   "source": [
    "# Criando uma coluna com o score-z do log para os homens\n",
    "dataframehomens['log_padronizado_salario_homens'] = ( dataframehomens['log_salario'] - dataframehomens['log_salario'].mean() ) / ( dataframehomens['log_salario'].std() ) "
   ]
  },
  {
   "cell_type": "code",
   "execution_count": 48,
   "metadata": {
    "ExecuteTime": {
     "end_time": "2019-08-04T13:58:48.081349Z",
     "start_time": "2019-08-04T13:58:48.033443Z"
    }
   },
   "outputs": [],
   "source": [
    "# Criando uma coluna com o score-z do log para as mulheres\n",
    "dataframemulheres['log_padronizado_salario_mulheres'] = ( dataframemulheres['log_salario'] - dataframemulheres['log_salario'].mean() ) / ( dataframemulheres['log_salario'].std() )                  "
   ]
  },
  {
   "cell_type": "code",
   "execution_count": 49,
   "metadata": {
    "ExecuteTime": {
     "end_time": "2019-08-04T13:58:48.091284Z",
     "start_time": "2019-08-04T13:58:48.082309Z"
    }
   },
   "outputs": [
    {
     "data": {
      "text/plain": [
       "(2.5932579894274958e-11, 1.0000000000003053)"
      ]
     },
     "execution_count": 49,
     "metadata": {},
     "output_type": "execute_result"
    }
   ],
   "source": [
    "# Calculando a média e o desvio padrão dos homens\n",
    "mediapadronizadahomens = dataframehomens['log_padronizado_salario_homens'].mean()\n",
    "desviopadraopadronizadohomens = dataframehomens['log_padronizado_salario_homens'].std()\n",
    "mediapadronizadahomens, desviopadraopadronizadohomens"
   ]
  },
  {
   "cell_type": "code",
   "execution_count": 50,
   "metadata": {
    "ExecuteTime": {
     "end_time": "2019-08-04T13:58:48.469755Z",
     "start_time": "2019-08-04T13:58:48.092283Z"
    }
   },
   "outputs": [
    {
     "data": {
      "text/plain": [
       "(4.3494962263891254e-11, 0.9999999999987552)"
      ]
     },
     "execution_count": 50,
     "metadata": {},
     "output_type": "execute_result"
    }
   ],
   "source": [
    "# Calculando a média e o desvio padrão das mulheres\n",
    "mediapadronizadamulheres = dataframemulheres['log_padronizado_salario_mulheres'].mean()\n",
    "desviopadraopadronizadomulheres = dataframemulheres['log_padronizado_salario_mulheres'].std()\n",
    "mediapadronizadamulheres, desviopadraopadronizadomulheres"
   ]
  },
  {
   "cell_type": "code",
   "execution_count": null,
   "metadata": {
    "ExecuteTime": {
     "end_time": "2019-07-31T18:50:20.114775Z",
     "start_time": "2019-07-31T18:50:20.109790Z"
    }
   },
   "outputs": [],
   "source": []
  },
  {
   "cell_type": "code",
   "execution_count": 51,
   "metadata": {
    "ExecuteTime": {
     "end_time": "2019-08-04T13:58:48.492702Z",
     "start_time": "2019-08-04T13:58:48.474781Z"
    }
   },
   "outputs": [
    {
     "data": {
      "text/plain": [
       "(-1.9599639845147199, 1.959963984566585)"
      ]
     },
     "execution_count": 51,
     "metadata": {},
     "output_type": "execute_result"
    }
   ],
   "source": [
    "# VERIFICANDO OS SCORE-Z\n",
    "scipy.stats.norm.interval(alpha=0.95,\n",
    "                          loc = mediapadronizadahomens, scale = desviopadraopadronizadohomens)"
   ]
  },
  {
   "cell_type": "code",
   "execution_count": 52,
   "metadata": {
    "ExecuteTime": {
     "end_time": "2019-08-04T13:58:48.562504Z",
     "start_time": "2019-08-04T13:58:48.498678Z"
    }
   },
   "outputs": [
    {
     "data": {
      "text/plain": [
       "Salario_Mensal                    565.000000\n",
       "log_padronizado_salario_homens     -1.962404\n",
       "dtype: float64"
      ]
     },
     "execution_count": 52,
     "metadata": {},
     "output_type": "execute_result"
    }
   ],
   "source": [
    "salariohomemmin = dataframehomens.log_padronizado_salario_homens.round(2) == -1.96\n",
    "dfsalariominhomem = dataframehomens[salariohomemmin]\n",
    "salminhomem = dfsalariominhomem[['Salario_Mensal', 'log_padronizado_salario_homens']].min()\n",
    "salminhomem"
   ]
  },
  {
   "cell_type": "code",
   "execution_count": 53,
   "metadata": {
    "ExecuteTime": {
     "end_time": "2019-08-04T13:58:48.581454Z",
     "start_time": "2019-08-04T13:58:48.563501Z"
    }
   },
   "outputs": [
    {
     "data": {
      "text/plain": [
       "Salario_Mensal                    3710.000000\n",
       "log_padronizado_salario_homens       1.964841\n",
       "dtype: float64"
      ]
     },
     "execution_count": 53,
     "metadata": {},
     "output_type": "execute_result"
    }
   ],
   "source": [
    "salariohomemmax = dataframehomens.log_padronizado_salario_homens.round(2) == 1.96\n",
    "dfsalariomaxhomem = dataframehomens[salariohomemmax]\n",
    "salmaxhomem = dfsalariomaxhomem[['Salario_Mensal', 'log_padronizado_salario_homens']].max()\n",
    "salmaxhomem"
   ]
  },
  {
   "cell_type": "code",
   "execution_count": null,
   "metadata": {},
   "outputs": [],
   "source": []
  },
  {
   "cell_type": "code",
   "execution_count": 54,
   "metadata": {
    "ExecuteTime": {
     "end_time": "2019-08-04T13:58:48.612371Z",
     "start_time": "2019-08-04T13:58:48.582452Z"
    }
   },
   "outputs": [
    {
     "data": {
      "text/plain": [
       "Salario_Mensal                      529.000000\n",
       "log_padronizado_salario_mulheres     -1.961585\n",
       "dtype: float64"
      ]
     },
     "execution_count": 54,
     "metadata": {},
     "output_type": "execute_result"
    }
   ],
   "source": [
    "salariominmulheres = dataframemulheres.log_padronizado_salario_mulheres.round(2) == -1.96\n",
    "dfsalariominmulheres = dataframemulheres[salariominmulheres]\n",
    "salminmulher = dfsalariominmulheres[['Salario_Mensal', 'log_padronizado_salario_mulheres']].min()\n",
    "salminmulher"
   ]
  },
  {
   "cell_type": "code",
   "execution_count": 55,
   "metadata": {
    "ExecuteTime": {
     "end_time": "2019-08-04T13:58:48.984757Z",
     "start_time": "2019-08-04T13:58:48.613368Z"
    }
   },
   "outputs": [
    {
     "data": {
      "text/plain": [
       "Salario_Mensal                      3266.000000\n",
       "log_padronizado_salario_mulheres       1.964688\n",
       "dtype: float64"
      ]
     },
     "execution_count": 55,
     "metadata": {},
     "output_type": "execute_result"
    }
   ],
   "source": [
    "salariomaxmulheres = dataframemulheres.log_padronizado_salario_mulheres.round(2) == 1.96\n",
    "dfsalariomaxmulheres = dataframemulheres[salariomaxmulheres]\n",
    "salmaxmulher = dfsalariomaxmulheres[['Salario_Mensal', 'log_padronizado_salario_mulheres']].max()\n",
    "salmaxmulher"
   ]
  },
  {
   "cell_type": "code",
   "execution_count": 56,
   "metadata": {
    "ExecuteTime": {
     "end_time": "2019-08-04T13:58:49.002679Z",
     "start_time": "2019-08-04T13:58:48.989769Z"
    }
   },
   "outputs": [
    {
     "name": "stdout",
     "output_type": "stream",
     "text": [
      "Sal min homens = 565.0 scorez = -1.9624040027845062\n",
      "Sal max homens 3710.0 scorez = 1.9648414906536718\n",
      "Sal min mulheres = 529.0 scorez = -1.9615849341830813\n",
      "Sal max mulheres 3266.0 scorez = 1.9646875308751859\n"
     ]
    }
   ],
   "source": [
    "print(f'Sal min homens = {salminhomem[0]} scorez = {salminhomem[1]}')\n",
    "print(f'Sal max homens {salmaxhomem[0]} scorez = {salmaxhomem[1]}')\n",
    "print(f'Sal min mulheres = {salminmulher[0]} scorez = {salminmulher[1]}')\n",
    "print(f'Sal max mulheres {salmaxmulher[0]} scorez = {salmaxmulher[1]}')"
   ]
  },
  {
   "cell_type": "code",
   "execution_count": 57,
   "metadata": {
    "ExecuteTime": {
     "end_time": "2019-08-04T13:58:49.034618Z",
     "start_time": "2019-08-04T13:58:49.008667Z"
    }
   },
   "outputs": [
    {
     "data": {
      "text/html": [
       "<div>\n",
       "<style scoped>\n",
       "    .dataframe tbody tr th:only-of-type {\n",
       "        vertical-align: middle;\n",
       "    }\n",
       "\n",
       "    .dataframe tbody tr th {\n",
       "        vertical-align: top;\n",
       "    }\n",
       "\n",
       "    .dataframe thead th {\n",
       "        text-align: right;\n",
       "    }\n",
       "</style>\n",
       "<table border=\"1\" class=\"dataframe\">\n",
       "  <thead>\n",
       "    <tr style=\"text-align: right;\">\n",
       "      <th></th>\n",
       "      <th>Grau_Instrucao</th>\n",
       "      <th>Idade</th>\n",
       "      <th>Raça Cor</th>\n",
       "      <th>Salario_Mensal</th>\n",
       "      <th>Sexo</th>\n",
       "      <th>log_salario</th>\n",
       "      <th>Grau_Instrucao_STR</th>\n",
       "      <th>Sexo_STR</th>\n",
       "      <th>log_padronizado_scorez</th>\n",
       "    </tr>\n",
       "  </thead>\n",
       "  <tbody>\n",
       "    <tr>\n",
       "      <th>0</th>\n",
       "      <td>6</td>\n",
       "      <td>24</td>\n",
       "      <td>8</td>\n",
       "      <td>954.0</td>\n",
       "      <td>1</td>\n",
       "      <td>6.861711</td>\n",
       "      <td>Médio Incompleto</td>\n",
       "      <td>Masculino</td>\n",
       "      <td>-0.793077</td>\n",
       "    </tr>\n",
       "    <tr>\n",
       "      <th>1</th>\n",
       "      <td>8</td>\n",
       "      <td>25</td>\n",
       "      <td>2</td>\n",
       "      <td>2500.0</td>\n",
       "      <td>1</td>\n",
       "      <td>7.824446</td>\n",
       "      <td>Superior Incompleto</td>\n",
       "      <td>Masculino</td>\n",
       "      <td>1.234427</td>\n",
       "    </tr>\n",
       "    <tr>\n",
       "      <th>7</th>\n",
       "      <td>4</td>\n",
       "      <td>50</td>\n",
       "      <td>2</td>\n",
       "      <td>1061.0</td>\n",
       "      <td>2</td>\n",
       "      <td>6.967909</td>\n",
       "      <td>6ª a 9ª Fundamental</td>\n",
       "      <td>Feminino</td>\n",
       "      <td>-0.569426</td>\n",
       "    </tr>\n",
       "    <tr>\n",
       "      <th>11</th>\n",
       "      <td>7</td>\n",
       "      <td>22</td>\n",
       "      <td>8</td>\n",
       "      <td>1061.0</td>\n",
       "      <td>1</td>\n",
       "      <td>6.967909</td>\n",
       "      <td>Médio Completo</td>\n",
       "      <td>Masculino</td>\n",
       "      <td>-0.569426</td>\n",
       "    </tr>\n",
       "    <tr>\n",
       "      <th>12</th>\n",
       "      <td>7</td>\n",
       "      <td>37</td>\n",
       "      <td>2</td>\n",
       "      <td>1061.0</td>\n",
       "      <td>1</td>\n",
       "      <td>6.967909</td>\n",
       "      <td>Médio Completo</td>\n",
       "      <td>Masculino</td>\n",
       "      <td>-0.569426</td>\n",
       "    </tr>\n",
       "    <tr>\n",
       "      <th>13</th>\n",
       "      <td>6</td>\n",
       "      <td>20</td>\n",
       "      <td>2</td>\n",
       "      <td>1061.0</td>\n",
       "      <td>1</td>\n",
       "      <td>6.967909</td>\n",
       "      <td>Médio Incompleto</td>\n",
       "      <td>Masculino</td>\n",
       "      <td>-0.569426</td>\n",
       "    </tr>\n",
       "    <tr>\n",
       "      <th>14</th>\n",
       "      <td>2</td>\n",
       "      <td>39</td>\n",
       "      <td>2</td>\n",
       "      <td>1026.0</td>\n",
       "      <td>1</td>\n",
       "      <td>6.934397</td>\n",
       "      <td>Até 5ª Incompleto</td>\n",
       "      <td>Masculino</td>\n",
       "      <td>-0.640002</td>\n",
       "    </tr>\n",
       "    <tr>\n",
       "      <th>15</th>\n",
       "      <td>5</td>\n",
       "      <td>25</td>\n",
       "      <td>8</td>\n",
       "      <td>1061.0</td>\n",
       "      <td>1</td>\n",
       "      <td>6.967909</td>\n",
       "      <td>Fundamental Completo</td>\n",
       "      <td>Masculino</td>\n",
       "      <td>-0.569426</td>\n",
       "    </tr>\n",
       "    <tr>\n",
       "      <th>16</th>\n",
       "      <td>5</td>\n",
       "      <td>22</td>\n",
       "      <td>9</td>\n",
       "      <td>1061.0</td>\n",
       "      <td>1</td>\n",
       "      <td>6.967909</td>\n",
       "      <td>Fundamental Completo</td>\n",
       "      <td>Masculino</td>\n",
       "      <td>-0.569426</td>\n",
       "    </tr>\n",
       "    <tr>\n",
       "      <th>17</th>\n",
       "      <td>5</td>\n",
       "      <td>18</td>\n",
       "      <td>8</td>\n",
       "      <td>1700.0</td>\n",
       "      <td>1</td>\n",
       "      <td>7.438972</td>\n",
       "      <td>Fundamental Completo</td>\n",
       "      <td>Masculino</td>\n",
       "      <td>0.422624</td>\n",
       "    </tr>\n",
       "  </tbody>\n",
       "</table>\n",
       "</div>"
      ],
      "text/plain": [
       "    Grau_Instrucao  Idade  Raça Cor  Salario_Mensal  Sexo  log_salario  \\\n",
       "0                6     24         8           954.0     1     6.861711   \n",
       "1                8     25         2          2500.0     1     7.824446   \n",
       "7                4     50         2          1061.0     2     6.967909   \n",
       "11               7     22         8          1061.0     1     6.967909   \n",
       "12               7     37         2          1061.0     1     6.967909   \n",
       "13               6     20         2          1061.0     1     6.967909   \n",
       "14               2     39         2          1026.0     1     6.934397   \n",
       "15               5     25         8          1061.0     1     6.967909   \n",
       "16               5     22         9          1061.0     1     6.967909   \n",
       "17               5     18         8          1700.0     1     7.438972   \n",
       "\n",
       "      Grau_Instrucao_STR   Sexo_STR  log_padronizado_scorez  \n",
       "0       Médio Incompleto  Masculino               -0.793077  \n",
       "1    Superior Incompleto  Masculino                1.234427  \n",
       "7    6ª a 9ª Fundamental   Feminino               -0.569426  \n",
       "11        Médio Completo  Masculino               -0.569426  \n",
       "12        Médio Completo  Masculino               -0.569426  \n",
       "13      Médio Incompleto  Masculino               -0.569426  \n",
       "14     Até 5ª Incompleto  Masculino               -0.640002  \n",
       "15  Fundamental Completo  Masculino               -0.569426  \n",
       "16  Fundamental Completo  Masculino               -0.569426  \n",
       "17  Fundamental Completo  Masculino                0.422624  "
      ]
     },
     "execution_count": 57,
     "metadata": {},
     "output_type": "execute_result"
    }
   ],
   "source": [
    "dataframe.head(10)"
   ]
  },
  {
   "cell_type": "code",
   "execution_count": 58,
   "metadata": {
    "ExecuteTime": {
     "end_time": "2019-08-04T13:58:49.388640Z",
     "start_time": "2019-08-04T13:58:49.036581Z"
    }
   },
   "outputs": [
    {
     "data": {
      "text/plain": [
       "<matplotlib.axes._subplots.AxesSubplot at 0x2b58003e438>"
      ]
     },
     "execution_count": 58,
     "metadata": {},
     "output_type": "execute_result"
    },
    {
     "data": {
      "image/png": "[encoded data removed]",
      "text/plain": [
       "<Figure size 432x288 with 1 Axes>"
      ]
     },
     "metadata": {
      "needs_background": "dark"
     },
     "output_type": "display_data"
    }
   ],
   "source": [
    "# Vericando a curva agora do log_padronizado_scorez\n",
    "dataframe['log_padronizado_scorez'].plot.hist()"
   ]
  },
  {
   "cell_type": "code",
   "execution_count": 59,
   "metadata": {
    "ExecuteTime": {
     "end_time": "2019-08-04T13:58:49.402602Z",
     "start_time": "2019-08-04T13:58:49.389636Z"
    }
   },
   "outputs": [
    {
     "data": {
      "text/plain": [
       "(1.1029010760011298e-11, 0.9999997760371009)"
      ]
     },
     "execution_count": 59,
     "metadata": {},
     "output_type": "execute_result"
    }
   ],
   "source": [
    "log_padronizado_salario = dataframe['log_padronizado_scorez']\n",
    "\n",
    "media_padronizada_salario = np.mean(log_padronizado_salario)\n",
    "desvio_padrao_log_padronizado_salario = np.std(log_padronizado_salario)\n",
    "media_padronizada_salario, desvio_padrao_log_padronizado_salario"
   ]
  },
  {
   "cell_type": "code",
   "execution_count": 60,
   "metadata": {
    "ExecuteTime": {
     "end_time": "2019-08-04T13:58:49.407589Z",
     "start_time": "2019-08-04T13:58:49.403599Z"
    }
   },
   "outputs": [
    {
     "data": {
      "text/plain": [
       "(-1.959963545569809, 1.959963545591867)"
      ]
     },
     "execution_count": 60,
     "metadata": {},
     "output_type": "execute_result"
    }
   ],
   "source": [
    "# z-score para a distribuição padronizada \n",
    "# significa que quem recebe menos que o z-score minimo, está abaixo da média salarial \n",
    "# e quem recebe mais que o z-score maximo está acima, tudo isso dentro de um intervalo de confiança de 95% \n",
    "\n",
    "# ONDE alpha é o intervalo de confiança, loc é a média e scale é o desvio padrão\n",
    "scipy.stats.norm.interval(alpha=0.95,\n",
    "                          loc = media_padronizada_salario, scale = desvio_padrao_log_padronizado_salario)"
   ]
  },
  {
   "cell_type": "code",
   "execution_count": 61,
   "metadata": {
    "ExecuteTime": {
     "end_time": "2019-08-04T13:58:49.418560Z",
     "start_time": "2019-08-04T13:58:49.408599Z"
    }
   },
   "outputs": [
    {
     "data": {
      "text/plain": [
       "0.05399097860635508"
      ]
     },
     "execution_count": 61,
     "metadata": {},
     "output_type": "execute_result"
    }
   ],
   "source": [
    "# calculando o p-value para a distribuição padronizada\n",
    "# neste caso tem uma evidência sugestiva\n",
    "p_value = scipy.stats.norm(media_padronizada_salario,\n",
    "                 desvio_padrao_log_padronizado_salario).pdf(2 * desvio_padrao_log_padronizado_salario)\n",
    "p_value"
   ]
  },
  {
   "cell_type": "code",
   "execution_count": 62,
   "metadata": {
    "ExecuteTime": {
     "end_time": "2019-08-04T13:58:49.425541Z",
     "start_time": "2019-08-04T13:58:49.419557Z"
    }
   },
   "outputs": [
    {
     "data": {
      "text/plain": [
       "0.946009021393645"
      ]
     },
     "execution_count": 62,
     "metadata": {},
     "output_type": "execute_result"
    }
   ],
   "source": [
    "# Calculando o alpha máximo\n",
    "alpha_max = 1 - p_value\n",
    "alpha_max"
   ]
  },
  {
   "cell_type": "code",
   "execution_count": 63,
   "metadata": {
    "ExecuteTime": {
     "end_time": "2019-08-04T13:58:49.452469Z",
     "start_time": "2019-08-04T13:58:49.426538Z"
    }
   },
   "outputs": [],
   "source": [
    "# Filtrando os homens com salário acima da média pelo log de salário scorez\n",
    "homens_acima_media_zscore = (dataframe['log_padronizado_scorez'] > 1.9599) & (dataframe['Sexo'] == 1)\n",
    "df_salario_homens_acima_media = dataframe[homens_acima_media_zscore]"
   ]
  },
  {
   "cell_type": "code",
   "execution_count": 64,
   "metadata": {
    "ExecuteTime": {
     "end_time": "2019-08-04T13:58:49.475407Z",
     "start_time": "2019-08-04T13:58:49.454464Z"
    }
   },
   "outputs": [],
   "source": [
    "# Filtrando as mulheres com o salário acima da média pelo log de salário scorez\n",
    "mulheres_acima_media_zscore = (dataframe['log_padronizado_scorez'] > 1.9599) & (dataframe['Sexo'] == 2)\n",
    "df_salario_mulheres_acima_media = dataframe[mulheres_acima_media_zscore]"
   ]
  },
  {
   "cell_type": "code",
   "execution_count": 65,
   "metadata": {
    "ExecuteTime": {
     "end_time": "2019-08-04T13:58:49.494356Z",
     "start_time": "2019-08-04T13:58:49.476405Z"
    }
   },
   "outputs": [],
   "source": [
    "# Filtrando os homens com salário abaixo da média pelo log de salário scorez\n",
    "homens_abaixo_media_zscore = (dataframe['log_padronizado_scorez'] < -1.9599) & (dataframe['Sexo'] == 1)\n",
    "df_salario_homens_abaixo_media = dataframe[homens_abaixo_media_zscore]"
   ]
  },
  {
   "cell_type": "code",
   "execution_count": 66,
   "metadata": {
    "ExecuteTime": {
     "end_time": "2019-08-04T13:58:49.512323Z",
     "start_time": "2019-08-04T13:58:49.495356Z"
    }
   },
   "outputs": [],
   "source": [
    "# Filtrando as mulheres com o salário abaixo da média pelo log de salário scorez\n",
    "mulheres_abaixo_media_zscore = (dataframe['log_padronizado_scorez'] < -1.9599) & (dataframe['Sexo'] == 2)\n",
    "df_salario_mulheres_abaixo_media = dataframe[mulheres_abaixo_media_zscore]"
   ]
  },
  {
   "cell_type": "code",
   "execution_count": 67,
   "metadata": {
    "ExecuteTime": {
     "end_time": "2019-08-04T13:58:49.607055Z",
     "start_time": "2019-08-04T13:58:49.518293Z"
    }
   },
   "outputs": [
    {
     "data": {
      "text/plain": [
       "4.659271990182491"
      ]
     },
     "execution_count": 67,
     "metadata": {},
     "output_type": "execute_result"
    }
   ],
   "source": [
    "# Porcentagem de homens que recebem acima da média\n",
    "( df_salario_homens_acima_media.shape[0] / dataframe[dataframe['Sexo'] == 1].shape[0] ) * 100"
   ]
  },
  {
   "cell_type": "code",
   "execution_count": 68,
   "metadata": {
    "ExecuteTime": {
     "end_time": "2019-08-04T13:58:49.678863Z",
     "start_time": "2019-08-04T13:58:49.609050Z"
    }
   },
   "outputs": [
    {
     "data": {
      "text/plain": [
       "4.000563872066103"
      ]
     },
     "execution_count": 68,
     "metadata": {},
     "output_type": "execute_result"
    }
   ],
   "source": [
    "# Porcentagem de mulheres que recebem acima da média\n",
    "( df_salario_mulheres_acima_media.shape[0] / dataframe[dataframe['Sexo'] == 2].shape[0] ) * 100"
   ]
  },
  {
   "cell_type": "code",
   "execution_count": 69,
   "metadata": {
    "ExecuteTime": {
     "end_time": "2019-08-04T13:58:49.762640Z",
     "start_time": "2019-08-04T13:58:49.679860Z"
    }
   },
   "outputs": [
    {
     "data": {
      "text/plain": [
       "1.7055479916233691"
      ]
     },
     "execution_count": 69,
     "metadata": {},
     "output_type": "execute_result"
    }
   ],
   "source": [
    "# Porcentagem de homens que recebem abaixo da média\n",
    "( df_salario_homens_abaixo_media.shape[0] / dataframe[dataframe['Sexo'] == 1].shape[0] ) * 100"
   ]
  },
  {
   "cell_type": "code",
   "execution_count": 70,
   "metadata": {
    "ExecuteTime": {
     "end_time": "2019-08-04T13:58:49.831456Z",
     "start_time": "2019-08-04T13:58:49.764634Z"
    }
   },
   "outputs": [
    {
     "data": {
      "text/plain": [
       "2.50511009059906"
      ]
     },
     "execution_count": 70,
     "metadata": {},
     "output_type": "execute_result"
    }
   ],
   "source": [
    "# Porcentagem de mulheres que recebem abaixo da média\n",
    "( df_salario_mulheres_abaixo_media.shape[0] / dataframe[dataframe['Sexo'] == 2].shape[0] ) * 100"
   ]
  },
  {
   "cell_type": "code",
   "execution_count": 71,
   "metadata": {
    "ExecuteTime": {
     "end_time": "2019-08-04T13:58:49.837440Z",
     "start_time": "2019-08-04T13:58:49.832453Z"
    }
   },
   "outputs": [
    {
     "name": "stdout",
     "output_type": "stream",
     "text": [
      "Sal min homens = 565.0 scorez = -1.9624040027845062\n",
      "Sal max homens 3710.0 scorez = 1.9648414906536718\n",
      "Sal min mulheres = 529.0 scorez = -1.9615849341830813\n",
      "Sal max mulheres 3266.0 scorez = 1.9646875308751859\n"
     ]
    }
   ],
   "source": [
    "print(f'Sal min homens = {salminhomem[0]} scorez = {salminhomem[1]}')\n",
    "print(f'Sal max homens {salmaxhomem[0]} scorez = {salmaxhomem[1]}')\n",
    "print(f'Sal min mulheres = {salminmulher[0]} scorez = {salminmulher[1]}')\n",
    "print(f'Sal max mulheres {salmaxmulher[0]} scorez = {salmaxmulher[1]}')"
   ]
  },
  {
   "cell_type": "code",
   "execution_count": null,
   "metadata": {},
   "outputs": [],
   "source": []
  },
  {
   "cell_type": "code",
   "execution_count": 72,
   "metadata": {
    "ExecuteTime": {
     "end_time": "2019-08-04T13:58:49.848410Z",
     "start_time": "2019-08-04T13:58:49.838437Z"
    }
   },
   "outputs": [
    {
     "data": {
      "text/plain": [
       "True"
      ]
     },
     "execution_count": 72,
     "metadata": {},
     "output_type": "execute_result"
    }
   ],
   "source": [
    "scipy.stats.norm.interval(alpha=0.95, loc=mediapadronizadamulheres, scale=desviopadraopadronizadomulheres)[0] < mediapadronizadahomens < scipy.stats.norm.interval(alpha=0.95, loc=mediapadronizadamulheres, scale=desviopadraopadronizadomulheres)[1] "
   ]
  },
  {
   "cell_type": "markdown",
   "metadata": {},
   "source": [
    "-----"
   ]
  },
  {
   "cell_type": "markdown",
   "metadata": {},
   "source": [
    "## 6 Verificação dos dados da variável Raça Cor: verifique os dados da variável Raça Cor, plote uma distribuição e uma dispersão, calcule a correlação com a variável salário mensal e interprete os resultados. Depois disso, faça uma inferência estatística pra verificar se os brancos ganham mais que os outros grupos étnicos."
   ]
  },
  {
   "cell_type": "markdown",
   "metadata": {},
   "source": [
    "### Dicionário de dados Raça Cor\n",
    "* INDIGENA___ 1\n",
    "* BRANCA_____ 2\n",
    "* PRETA______ 4\n",
    "* AMARELA____ 6\n",
    "* PARDA______ 8\n",
    "* NÃO IDENT__ 9\n",
    "* IGNORADO__ -1"
   ]
  },
  {
   "cell_type": "code",
   "execution_count": 73,
   "metadata": {
    "ExecuteTime": {
     "end_time": "2019-08-04T13:58:49.926202Z",
     "start_time": "2019-08-04T13:58:49.849408Z"
    }
   },
   "outputs": [],
   "source": [
    "# Renomeando a coluna Raça Cor para Raca_Cor\n",
    "dataframe.rename(columns={\"Raça Cor\": \"Raca_Cor\"},inplace=True)"
   ]
  },
  {
   "cell_type": "code",
   "execution_count": 74,
   "metadata": {
    "ExecuteTime": {
     "end_time": "2019-08-04T13:58:50.806875Z",
     "start_time": "2019-08-04T13:58:49.927200Z"
    }
   },
   "outputs": [],
   "source": [
    "# Criando uma coluna Raca_Cor de string\n",
    "dataframe['Raca_Cor_STR'] = dataframe['Raca_Cor'].astype(str, inplace=True)"
   ]
  },
  {
   "cell_type": "code",
   "execution_count": 75,
   "metadata": {
    "ExecuteTime": {
     "end_time": "2019-08-04T13:58:51.152344Z",
     "start_time": "2019-08-04T13:58:50.807846Z"
    }
   },
   "outputs": [],
   "source": [
    "# Trocando os valores de numeros para o dicionário\n",
    "dataframe.Raca_Cor_STR.replace({'1': 'Indigena',\n",
    "                               '2': 'Branca',\n",
    "                               '4': 'Preta',\n",
    "                               '6': 'Amarela',\n",
    "                               '8': 'Parda',\n",
    "                               '9': 'Não Ident',\n",
    "                               '-1': 'IGNORADO'}, inplace=True)"
   ]
  },
  {
   "cell_type": "code",
   "execution_count": 76,
   "metadata": {
    "ExecuteTime": {
     "end_time": "2019-08-04T13:58:51.431524Z",
     "start_time": "2019-08-04T13:58:51.153269Z"
    }
   },
   "outputs": [
    {
     "data": {
      "text/plain": [
       "<matplotlib.axes._subplots.AxesSubplot at 0x2b58003e8d0>"
      ]
     },
     "execution_count": 76,
     "metadata": {},
     "output_type": "execute_result"
    },
    {
     "data": {
      "image/png": "[encoded data removed]",
      "text/plain": [
       "<Figure size 432x288 with 1 Axes>"
      ]
     },
     "metadata": {
      "needs_background": "dark"
     },
     "output_type": "display_data"
    }
   ],
   "source": [
    "dataframe.Raca_Cor.plot.hist(bins=10)"
   ]
  },
  {
   "cell_type": "code",
   "execution_count": 77,
   "metadata": {
    "ExecuteTime": {
     "end_time": "2019-08-04T13:58:51.654926Z",
     "start_time": "2019-08-04T13:58:51.432521Z"
    }
   },
   "outputs": [
    {
     "data": {
      "text/plain": [
       "<matplotlib.axes._subplots.AxesSubplot at 0x2b5a7e5fc18>"
      ]
     },
     "execution_count": 77,
     "metadata": {},
     "output_type": "execute_result"
    },
    {
     "data": {
      "image/png": "[encoded data removed]",
      "text/plain": [
       "<Figure size 432x288 with 1 Axes>"
      ]
     },
     "metadata": {
      "needs_background": "dark"
     },
     "output_type": "display_data"
    }
   ],
   "source": [
    "# Plotando um gráfico de barras\n",
    "dataframe.Raca_Cor_STR.value_counts().plot(kind='bar')"
   ]
  },
  {
   "cell_type": "code",
   "execution_count": 78,
   "metadata": {
    "ExecuteTime": {
     "end_time": "2019-08-04T13:58:51.917226Z",
     "start_time": "2019-08-04T13:58:51.655924Z"
    }
   },
   "outputs": [
    {
     "data": {
      "text/plain": [
       "<matplotlib.collections.PathCollection at 0x2b580a8d128>"
      ]
     },
     "execution_count": 78,
     "metadata": {},
     "output_type": "execute_result"
    },
    {
     "data": {
      "image/png": "[encoded data removed]",
      "text/plain": [
       "<Figure size 432x288 with 1 Axes>"
      ]
     },
     "metadata": {
      "needs_background": "dark"
     },
     "output_type": "display_data"
    }
   ],
   "source": [
    "sample_raca_cor = dataframe.sample(5000)\n",
    "plt.scatter(y=sample_raca_cor.Raca_Cor, x=sample_raca_cor.Raca_Cor.index, alpha=0.3)"
   ]
  },
  {
   "cell_type": "code",
   "execution_count": 79,
   "metadata": {
    "ExecuteTime": {
     "end_time": "2019-08-04T13:58:51.980058Z",
     "start_time": "2019-08-04T13:58:51.917226Z"
    }
   },
   "outputs": [
    {
     "data": {
      "text/html": [
       "<div>\n",
       "<style scoped>\n",
       "    .dataframe tbody tr th:only-of-type {\n",
       "        vertical-align: middle;\n",
       "    }\n",
       "\n",
       "    .dataframe tbody tr th {\n",
       "        vertical-align: top;\n",
       "    }\n",
       "\n",
       "    .dataframe thead th {\n",
       "        text-align: right;\n",
       "    }\n",
       "</style>\n",
       "<table border=\"1\" class=\"dataframe\">\n",
       "  <thead>\n",
       "    <tr style=\"text-align: right;\">\n",
       "      <th></th>\n",
       "      <th>Raca_Cor</th>\n",
       "      <th>Salario_Mensal</th>\n",
       "    </tr>\n",
       "  </thead>\n",
       "  <tbody>\n",
       "    <tr>\n",
       "      <th>Raca_Cor</th>\n",
       "      <td>1.00</td>\n",
       "      <td>-0.08</td>\n",
       "    </tr>\n",
       "    <tr>\n",
       "      <th>Salario_Mensal</th>\n",
       "      <td>-0.08</td>\n",
       "      <td>1.00</td>\n",
       "    </tr>\n",
       "  </tbody>\n",
       "</table>\n",
       "</div>"
      ],
      "text/plain": [
       "                Raca_Cor  Salario_Mensal\n",
       "Raca_Cor            1.00           -0.08\n",
       "Salario_Mensal     -0.08            1.00"
      ]
     },
     "execution_count": 79,
     "metadata": {},
     "output_type": "execute_result"
    }
   ],
   "source": [
    "df_racacor_vs_salario = dataframe[['Raca_Cor', 'Salario_Mensal']]\n",
    "df_racacor_vs_salario.corr().round(2)"
   ]
  },
  {
   "cell_type": "code",
   "execution_count": 80,
   "metadata": {
    "ExecuteTime": {
     "end_time": "2019-08-04T13:58:52.724142Z",
     "start_time": "2019-08-04T13:58:51.981055Z"
    }
   },
   "outputs": [],
   "source": [
    "# CRIANDO DATAFRAME SÓ DOS BRANCOS\n",
    "filtrobrancos = dataframe['Raca_Cor_STR'] == \"Branca\"\n",
    "dfbrancos = dataframe[filtrobrancos]\n",
    "# CRIANDO DATAFRAME SÓ DOS PARDOS\n",
    "filtropardos = dataframe['Raca_Cor_STR'] == \"Parda\"\n",
    "dfpardos = dataframe[filtropardos]\n",
    "# CRIANDO DATAFRAME DOS NÃO IDENTIFICADOS\n",
    "filtronaoident = dataframe['Raca_Cor_STR'] == \"Não Ident\"\n",
    "dfnaoident = dataframe[filtronaoident]\n",
    "# CRIANDO DATAFRAME SÓ DOS PRETOS\n",
    "filtropretas = dataframe['Raca_Cor_STR'] == \"Preta\"\n",
    "dfpretas = dataframe[filtropretas]\n",
    "# CRIANDO DATAFRAME SÓ DOS AMARELOS\n",
    "filtroamarelas = dataframe['Raca_Cor_STR'] == \"Amarela\"\n",
    "dfamarelos = dataframe[filtroamarelas]\n",
    "# CRIANDO DATAFRAME INDIGENA\n",
    "filtroindigena = dataframe['Raca_Cor_STR'] == \"Indigena\"\n",
    "dfindigenas = dataframe[filtroindigena]"
   ]
  },
  {
   "cell_type": "code",
   "execution_count": 81,
   "metadata": {
    "ExecuteTime": {
     "end_time": "2019-08-04T13:58:52.739123Z",
     "start_time": "2019-08-04T13:58:52.725067Z"
    }
   },
   "outputs": [],
   "source": [
    "# CALCULANDO AS MÉDIAS E DESVIOS PADRÃO\n",
    "# BRANCOS\n",
    "mediadfbrancos = dfbrancos.log_salario.mean()\n",
    "dpbrancos = dfbrancos.log_salario.std()\n",
    "# PARDOS\n",
    "mediapardos = dfpardos.log_salario.mean()\n",
    "dppardos = dfpardos.log_salario.std()\n",
    "# NÃO IDENTIFICADOS\n",
    "medianaoident = dfnaoident.log_salario.mean()\n",
    "dpnaoident = dfnaoident.log_salario.std()\n",
    "# PRETOS\n",
    "mediapretas = dfpretas.log_salario.mean()\n",
    "dppretas = dfpretas.log_salario.std()\n",
    "# AMARELOS\n",
    "mediaamarelos = dfamarelos.log_salario.mean()\n",
    "dpamarelos = dfamarelos.log_salario.std()\n",
    "# INDIGENAS\n",
    "mediaindigenas = dfindigenas.log_salario.mean()\n",
    "dpindigenas = dfindigenas.log_salario.std()\n"
   ]
  },
  {
   "cell_type": "code",
   "execution_count": 82,
   "metadata": {
    "ExecuteTime": {
     "end_time": "2019-08-04T13:58:52.745013Z",
     "start_time": "2019-08-04T13:58:52.740035Z"
    }
   },
   "outputs": [
    {
     "name": "stdout",
     "output_type": "stream",
     "text": [
      "brancos media= 7.308393959282515 dp= 0.5284640425226509\n",
      "pardos media= 7.174311717051291 dp= 0.4209856968436536\n",
      "nao ident media= 7.203077439726465 dp= 0.4181268102920843\n",
      "pretas media= 7.1830787667184115 dp= 0.3938784615271023\n",
      "amarelas media= 7.350754899909039 dp= 0.6416893634546512\n",
      "indigenas media= 7.291292841834495 dp= 0.5208979985339196\n"
     ]
    }
   ],
   "source": [
    "print(f'brancos media= {mediadfbrancos} dp= {dpbrancos}')\n",
    "print(f'pardos media= {mediapardos} dp= {dppardos}')\n",
    "print(f'nao ident media= {medianaoident} dp= {dpnaoident}')\n",
    "print(f'pretas media= {mediapretas} dp= {dppretas}')\n",
    "print(f'amarelas media= {mediaamarelos} dp= {dpamarelos}')\n",
    "print(f'indigenas media= {mediaindigenas} dp= {dpindigenas}')"
   ]
  },
  {
   "cell_type": "code",
   "execution_count": 83,
   "metadata": {
    "ExecuteTime": {
     "end_time": "2019-08-04T13:58:52.757979Z",
     "start_time": "2019-08-04T13:58:52.746011Z"
    }
   },
   "outputs": [
    {
     "name": "stdout",
     "output_type": "stream",
     "text": [
      "6.270351525089015\n",
      "6.272623468813676\n"
     ]
    }
   ],
   "source": [
    "print(stats.norm.interval(0.95, loc=mediaindigenas, scale=dpindigenas)[0])\n",
    "print(stats.norm.interval(0.95, loc=mediadfbrancos, scale=dpbrancos)[0])"
   ]
  },
  {
   "cell_type": "code",
   "execution_count": 84,
   "metadata": {
    "ExecuteTime": {
     "end_time": "2019-08-04T13:58:52.869711Z",
     "start_time": "2019-08-04T13:58:52.758996Z"
    }
   },
   "outputs": [
    {
     "data": {
      "text/plain": [
       "<matplotlib.legend.Legend at 0x2b5a7e5f9b0>"
      ]
     },
     "execution_count": 84,
     "metadata": {},
     "output_type": "execute_result"
    },
    {
     "data": {
      "image/png": "[encoded data removed]",
      "text/plain": [
       "<Figure size 432x288 with 1 Axes>"
      ]
     },
     "metadata": {
      "needs_background": "dark"
     },
     "output_type": "display_data"
    }
   ],
   "source": [
    "x = np.linspace(mediadfbrancos - 3*dpbrancos, mediadfbrancos + 3*dpbrancos, 100)\n",
    "\n",
    "fig, ax = plt.subplots(1, 1)\n",
    "ax.plot(x, stats.norm.pdf(x, mediadfbrancos, dpbrancos),label='Brancos')\n",
    "ax.plot(x, stats.norm.pdf(x, mediapretas, dppretas),label='Pretas')\n",
    "ax.legend(loc='best', frameon=False)"
   ]
  },
  {
   "cell_type": "code",
   "execution_count": 85,
   "metadata": {
    "ExecuteTime": {
     "end_time": "2019-08-04T13:58:53.163427Z",
     "start_time": "2019-08-04T13:58:52.870678Z"
    }
   },
   "outputs": [
    {
     "data": {
      "text/plain": [
       "True"
      ]
     },
     "execution_count": 85,
     "metadata": {},
     "output_type": "execute_result"
    }
   ],
   "source": [
    "# BRANCOS VS PRETAS\n",
    "scipy.stats.norm.interval(alpha=0.95, loc=mediadfbrancos, scale=dpbrancos)[0] < mediapretas < scipy.stats.norm.interval(alpha=0.95, loc=mediadfbrancos, scale=dpbrancos)[1] "
   ]
  },
  {
   "cell_type": "code",
   "execution_count": 86,
   "metadata": {
    "ExecuteTime": {
     "end_time": "2019-08-04T13:58:53.540373Z",
     "start_time": "2019-08-04T13:58:53.168456Z"
    }
   },
   "outputs": [
    {
     "data": {
      "text/plain": [
       "True"
      ]
     },
     "execution_count": 86,
     "metadata": {},
     "output_type": "execute_result"
    }
   ],
   "source": [
    "# PRETAS VS BRANCOS\n",
    "scipy.stats.norm.interval(alpha=0.95, loc=mediapretas, scale=dppretas)[0] < mediadfbrancos < scipy.stats.norm.interval(alpha=0.95, loc=mediapretas, scale=dppretas)[1] "
   ]
  },
  {
   "cell_type": "code",
   "execution_count": 87,
   "metadata": {
    "ExecuteTime": {
     "end_time": "2019-08-04T13:58:53.553314Z",
     "start_time": "2019-08-04T13:58:53.541347Z"
    }
   },
   "outputs": [
    {
     "data": {
      "text/plain": [
       "True"
      ]
     },
     "execution_count": 87,
     "metadata": {},
     "output_type": "execute_result"
    }
   ],
   "source": [
    "# BRANCOS VS INDIGENAS\n",
    "scipy.stats.norm.interval(alpha=0.95, loc=mediadfbrancos, scale=dpbrancos)[0] < mediaindigenas < scipy.stats.norm.interval(alpha=0.95, loc=mediadfbrancos, scale=dpbrancos)[1] "
   ]
  },
  {
   "cell_type": "code",
   "execution_count": 88,
   "metadata": {
    "ExecuteTime": {
     "end_time": "2019-08-04T13:58:53.565282Z",
     "start_time": "2019-08-04T13:58:53.554310Z"
    }
   },
   "outputs": [
    {
     "data": {
      "text/plain": [
       "True"
      ]
     },
     "execution_count": 88,
     "metadata": {},
     "output_type": "execute_result"
    }
   ],
   "source": [
    "# INDIGENAS VS BRANCOS\n",
    "scipy.stats.norm.interval(alpha=0.95, loc=mediaindigenas, scale=dpindigenas)[0] < mediadfbrancos < scipy.stats.norm.interval(alpha=0.95, loc=mediaindigenas, scale=dpindigenas)[1] "
   ]
  },
  {
   "cell_type": "code",
   "execution_count": 89,
   "metadata": {
    "ExecuteTime": {
     "end_time": "2019-08-04T13:58:53.575255Z",
     "start_time": "2019-08-04T13:58:53.566280Z"
    }
   },
   "outputs": [
    {
     "data": {
      "text/plain": [
       "True"
      ]
     },
     "execution_count": 89,
     "metadata": {},
     "output_type": "execute_result"
    }
   ],
   "source": [
    "# BRANCOS VS PARDAS\n",
    "scipy.stats.norm.interval(alpha=0.95, loc=mediadfbrancos, scale=dpbrancos)[0] < mediapardos < scipy.stats.norm.interval(alpha=0.95, loc=mediadfbrancos, scale=dpbrancos)[1] "
   ]
  },
  {
   "cell_type": "code",
   "execution_count": 90,
   "metadata": {
    "ExecuteTime": {
     "end_time": "2019-08-04T13:58:53.586225Z",
     "start_time": "2019-08-04T13:58:53.576252Z"
    }
   },
   "outputs": [
    {
     "data": {
      "text/plain": [
       "True"
      ]
     },
     "execution_count": 90,
     "metadata": {},
     "output_type": "execute_result"
    }
   ],
   "source": [
    "# PARDAS VS BRANCOS\n",
    "scipy.stats.norm.interval(alpha=0.95, loc=mediapardos, scale=dppardos)[0] < mediadfbrancos < scipy.stats.norm.interval(alpha=0.95, loc=mediapardos, scale=dppardos)[1] "
   ]
  },
  {
   "cell_type": "markdown",
   "metadata": {},
   "source": [
    "## 8 Avançado: plote um SEABORN heatmap com todas as correlações das variávies numéricas entre si."
   ]
  },
  {
   "cell_type": "code",
   "execution_count": 91,
   "metadata": {
    "ExecuteTime": {
     "end_time": "2019-08-04T13:58:54.359865Z",
     "start_time": "2019-08-04T13:58:53.587223Z"
    }
   },
   "outputs": [
    {
     "data": {
      "image/png": "[encoded data removed]",
      "text/plain": [
       "<Figure size 432x288 with 2 Axes>"
      ]
     },
     "metadata": {
      "needs_background": "dark"
     },
     "output_type": "display_data"
    }
   ],
   "source": [
    "heat_map = sns.heatmap(dataframe.corr())\n",
    "plt.show()"
   ]
  },
  {
   "cell_type": "code",
   "execution_count": null,
   "metadata": {
    "ExecuteTime": {
     "end_time": "2019-08-03T14:10:32.652602Z",
     "start_time": "2019-08-03T14:10:32.089084Z"
    }
   },
   "outputs": [],
   "source": []
  },
  {
   "cell_type": "code",
   "execution_count": null,
   "metadata": {},
   "outputs": [],
   "source": []
  }
 ],
 "metadata": {
  "kernelspec": {
   "display_name": "Python 3",
   "language": "python",
   "name": "python3"
  },
  "language_info": {
   "codemirror_mode": {
    "name": "ipython",
    "version": 3
   },
   "file_extension": ".py",
   "mimetype": "text/x-python",
   "name": "python",
   "nbconvert_exporter": "python",
   "pygments_lexer": "ipython3",
   "version": "3.7.3"
  },
  "latex_envs": {
   "LaTeX_envs_menu_present": true,
   "autoclose": false,
   "autocomplete": true,
   "bibliofile": "biblio.bib",
   "cite_by": "apalike",
   "current_citInitial": 1,
   "eqLabelWithNumbers": true,
   "eqNumInitial": 1,
   "hotkeys": {
    "equation": "Ctrl-E",
    "itemize": "Ctrl-I"
   },
   "labels_anchors": false,
   "latex_user_defs": false,
   "report_style_numbering": false,
   "user_envs_cfg": false
  },
  "toc": {
   "base_numbering": 1,
   "nav_menu": {},
   "number_sections": true,
   "sideBar": true,
   "skip_h1_title": false,
   "title_cell": "Table of Contents",
   "title_sidebar": "Contents",
   "toc_cell": false,
   "toc_position": {},
   "toc_section_display": true,
   "toc_window_display": false
  },
  "varInspector": {
   "cols": {
    "lenName": 16,
    "lenType": 16,
    "lenVar": 40
   },
   "kernels_config": {
    "python": {
     "delete_cmd_postfix": "",
     "delete_cmd_prefix": "del ",
     "library": "var_list.py",
     "varRefreshCmd": "print(var_dic_list())"
    },
    "r": {
     "delete_cmd_postfix": ") ",
     "delete_cmd_prefix": "rm(",
     "library": "var_list.r",
     "varRefreshCmd": "cat(var_dic_list()) "
    }
   },
   "types_to_exclude": [
    "module",
    "function",
    "builtin_function_or_method",
    "instance",
    "_Feature"
   ],
   "window_display": false
  }
 },
 "nbformat": 4,
 "nbformat_minor": 2
}
